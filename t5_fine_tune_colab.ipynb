{
 "cells": [
  {
   "cell_type": "code",
   "execution_count": null,
   "id": "gciJBofi3Pey",
   "metadata": {
    "executionInfo": {
     "elapsed": 11,
     "status": "aborted",
     "timestamp": 1691331108529,
     "user": {
      "displayName": "Ilya",
      "userId": "14985529302101757066"
     },
     "user_tz": -180
    },
    "id": "gciJBofi3Pey"
   },
   "outputs": [],
   "source": [
    "!pip install transformers evaluate sentencepiece nltk datasets rouge_score"
   ]
  },
  {
   "cell_type": "code",
   "execution_count": 212,
   "id": "3b1d92d5-ecab-4410-8ef3-ca29c4a66118",
   "metadata": {
    "executionInfo": {
     "elapsed": 13,
     "status": "ok",
     "timestamp": 1691330742148,
     "user": {
      "displayName": "Ilya",
      "userId": "14985529302101757066"
     },
     "user_tz": -180
    },
    "id": "3b1d92d5-ecab-4410-8ef3-ca29c4a66118"
   },
   "outputs": [],
   "source": [
    "import torch\n",
    "from torch.utils.data import DataLoader\n",
    "import pandas as pd\n",
    "import numpy as np\n",
    "from transformers import T5ForConditionalGeneration, T5Tokenizer\n",
    "from transformers import DataCollatorWithPadding\n",
    "from transformers import DataCollatorForSeq2Seq\n",
    "from datasets import load_dataset, Features, Value\n",
    "import random\n",
    "from tqdm.auto import tqdm, trange\n",
    "import os\n",
    "from sklearn.model_selection import train_test_split\n",
    "import re\n",
    "import json\n",
    "import gc\n",
    "import evaluate\n",
    "import sentencepiece\n",
    "\n",
    "import nltk\n",
    "from nltk.tokenize import sent_tokenize\n",
    "from nltk.tokenize import word_tokenize\n",
    "\n",
    "import matplotlib.pyplot as plt"
   ]
  },
  {
   "cell_type": "code",
   "execution_count": 213,
   "id": "Ei604BVT681G",
   "metadata": {
    "colab": {
     "base_uri": "https://localhost:8080/"
    },
    "executionInfo": {
     "elapsed": 13,
     "status": "ok",
     "timestamp": 1691330742149,
     "user": {
      "displayName": "Ilya",
      "userId": "14985529302101757066"
     },
     "user_tz": -180
    },
    "id": "Ei604BVT681G",
    "outputId": "e203c689-cd3e-40e8-8438-23eab040f6a8"
   },
   "outputs": [
    {
     "name": "stderr",
     "output_type": "stream",
     "text": [
      "[nltk_data] Downloading package punkt to /root/nltk_data...\n",
      "[nltk_data]   Package punkt is already up-to-date!\n"
     ]
    },
    {
     "data": {
      "text/plain": [
       "True"
      ]
     },
     "execution_count": 213,
     "metadata": {},
     "output_type": "execute_result"
    }
   ],
   "source": [
    "nltk.download('punkt')"
   ]
  },
  {
   "cell_type": "markdown",
   "id": "5d285bdd-396a-435f-8a6a-57939bbd4a50",
   "metadata": {
    "id": "5d285bdd-396a-435f-8a6a-57939bbd4a50"
   },
   "source": [
    "# Load config"
   ]
  },
  {
   "cell_type": "markdown",
   "id": "0c07ed78-7f7d-4f3f-b500-e0e46d16810b",
   "metadata": {},
   "source": [
    "Load config for T5 model"
   ]
  },
  {
   "cell_type": "code",
   "execution_count": 214,
   "id": "19b02218-02f8-43a3-858d-576f6e56c0c8",
   "metadata": {
    "colab": {
     "base_uri": "https://localhost:8080/"
    },
    "executionInfo": {
     "elapsed": 8,
     "status": "ok",
     "timestamp": 1691330742149,
     "user": {
      "displayName": "Ilya",
      "userId": "14985529302101757066"
     },
     "user_tz": -180
    },
    "id": "19b02218-02f8-43a3-858d-576f6e56c0c8",
    "outputId": "4ae66ec7-4cd9-4819-a715-7092b6f86f82"
   },
   "outputs": [
    {
     "data": {
      "text/plain": [
       "{'batch_size': 2,\n",
       " 'epoch_number': 5,\n",
       " 'learning_rate': 1e-06,\n",
       " 'num_train_epochs': 10,\n",
       " 'gradient_accumulation_steps': 2,\n",
       " 'max_target_tokens_count': 1024,\n",
       " 'max_source_tokens_count': 1024,\n",
       " 'logging_steps': 25,\n",
       " 'report_steps': 20,\n",
       " 'save_steps': 100,\n",
       " 'eval_steps': 20,\n",
       " 'warmup_steps': 5,\n",
       " 'model_type': 'seq2seq_lm',\n",
       " 'model_name': 't5-base',\n",
       " 'path_to_dataset': '/content/dataset_processed.json',\n",
       " 'output_dir': 'model_best',\n",
       " 'test_size': 0.2,\n",
       " 'seed': 1}"
      ]
     },
     "execution_count": 214,
     "metadata": {},
     "output_type": "execute_result"
    }
   ],
   "source": [
    "config_file = '/content/config_T5.json'\n",
    "with open(config_file, \"r\") as r:\n",
    "    config = json.load(r)\n",
    "config"
   ]
  },
  {
   "cell_type": "markdown",
   "id": "28628c1a-928c-41cd-969d-3062f27eab72",
   "metadata": {
    "id": "28628c1a-928c-41cd-969d-3062f27eab72"
   },
   "source": [
    "# Load dataset"
   ]
  },
  {
   "cell_type": "markdown",
   "id": "3afbefcc-224e-45d4-b6de-d4e39700634c",
   "metadata": {},
   "source": [
    "Load processed dataset in .json format"
   ]
  },
  {
   "cell_type": "code",
   "execution_count": 215,
   "id": "b8b63fd3-c123-4bc6-bb7d-9cb525cee804",
   "metadata": {
    "executionInfo": {
     "elapsed": 6,
     "status": "ok",
     "timestamp": 1691330742150,
     "user": {
      "displayName": "Ilya",
      "userId": "14985529302101757066"
     },
     "user_tz": -180
    },
    "id": "b8b63fd3-c123-4bc6-bb7d-9cb525cee804"
   },
   "outputs": [],
   "source": [
    "# load dataset\n",
    "path_to_dataset = config['path_to_dataset']"
   ]
  },
  {
   "cell_type": "code",
   "execution_count": 217,
   "id": "9a732635-8740-4298-a1aa-8bb1f7149838",
   "metadata": {
    "executionInfo": {
     "elapsed": 1135,
     "status": "ok",
     "timestamp": 1691330743280,
     "user": {
      "displayName": "Ilya",
      "userId": "14985529302101757066"
     },
     "user_tz": -180
    },
    "id": "9a732635-8740-4298-a1aa-8bb1f7149838"
   },
   "outputs": [],
   "source": [
    "lyrics_data = load_dataset('json', data_files=path_to_dataset)"
   ]
  },
  {
   "cell_type": "code",
   "execution_count": 218,
   "id": "e33d04d9-e415-4a1f-b067-b4f3d85be491",
   "metadata": {
    "executionInfo": {
     "elapsed": 12,
     "status": "ok",
     "timestamp": 1691330743281,
     "user": {
      "displayName": "Ilya",
      "userId": "14985529302101757066"
     },
     "user_tz": -180
    },
    "id": "e33d04d9-e415-4a1f-b067-b4f3d85be491"
   },
   "outputs": [],
   "source": [
    "lyrics_data = lyrics_data['train']"
   ]
  },
  {
   "cell_type": "code",
   "execution_count": 219,
   "id": "c_HZA6mW6RQh",
   "metadata": {
    "colab": {
     "base_uri": "https://localhost:8080/"
    },
    "executionInfo": {
     "elapsed": 12,
     "status": "ok",
     "timestamp": 1691330743281,
     "user": {
      "displayName": "Ilya",
      "userId": "14985529302101757066"
     },
     "user_tz": -180
    },
    "id": "c_HZA6mW6RQh",
    "outputId": "d34a7ca8-be7d-4180-f555-bb2ff1b40186"
   },
   "outputs": [
    {
     "data": {
      "text/plain": [
       "{'text': \"[Verse 1]\\nOnce the last drop of rain has dried off the pavement\\nShouldn't I find a stain? But I never do\\nThe way the tires turn stones on old county roads\\nThey leave 'em muddy underneath, reminds me of you\\nYou find graffiti on the walls of old bathroom stalls, you know\\nYou can scratch it right off, it's how it used to be\\nBut like the dollar in your pocket, it's been spent and traded in\\nYou can't change where it's been, reminds me of me\\n\\n[Chorus: Taylor Swift & Maren Morris]\\nI lived and I learned\\nHad you, got burned\\nHeld out and held on\\nGod knows, too long, and wasted time\\nLost tears, swore that I'd get out of here\\nBut no amount of freedom gets you clean\\nI've still got you all over me\",\n",
       " 'summary': '[Verse 2: Taylor Swift, Taylor Swift & Maren Morris]\\nThe best and worst day of June\\nWas the one that I met you\\nWith your hands in your pockets\\nAnd your \"Don\\'t you wish you had me?\" grin\\nWell I did, so I smiled, and I melted like a child\\nNow, every breath of air I breathe reminds me of then\\n\\n[Chorus: Taylor Swift & Maren Morris]\\nAnd I lived and I learned\\nHad you, got burned\\nHeld out and held on\\nGod knows, too long, and wasted time\\nLost tears, swore that I\\'d get out of here\\nBut no amount of freedom gets you clean\\nI\\'ve still got you all over me\\n\\n[Instrumental Break]\\n\\n[Chorus: Taylor Swift, Taylor Swift & Maren Morris]\\nI lived and I learned\\nAnd found out what it was to turn around\\nAnd see that we\\nWere never really meant to be\\nSo I lied, and I cried\\nAnd I watched a part of myself die\\n\\'Cause no amount of freedom gets you clean\\nI\\'ve still got you all over me\\nYou might also like[Outro: Taylor Swift, Taylor Swift & Maren Morris]\\nI\\'ve still got you all over me\\nStill got you all over me39Embed'}"
      ]
     },
     "execution_count": 219,
     "metadata": {},
     "output_type": "execute_result"
    }
   ],
   "source": [
    "lyrics_data[0]"
   ]
  },
  {
   "cell_type": "markdown",
   "id": "4b4a1975-62c1-496a-ad36-cd6d446e138f",
   "metadata": {},
   "source": [
    "Split data to train and validation parts"
   ]
  },
  {
   "cell_type": "code",
   "execution_count": 220,
   "id": "40931ed4-b292-468e-bb2c-65407940b952",
   "metadata": {
    "executionInfo": {
     "elapsed": 9,
     "status": "ok",
     "timestamp": 1691330743281,
     "user": {
      "displayName": "Ilya",
      "userId": "14985529302101757066"
     },
     "user_tz": -180
    },
    "id": "40931ed4-b292-468e-bb2c-65407940b952",
    "tags": []
   },
   "outputs": [],
   "source": [
    "lyrics_data = lyrics_data.train_test_split(test_size=config['test_size'], shuffle=True, seed=config['seed'])"
   ]
  },
  {
   "cell_type": "code",
   "execution_count": 221,
   "id": "8e90589b-a875-4e17-9f87-dce0c49cb054",
   "metadata": {
    "colab": {
     "base_uri": "https://localhost:8080/"
    },
    "executionInfo": {
     "elapsed": 7,
     "status": "ok",
     "timestamp": 1691330743281,
     "user": {
      "displayName": "Ilya",
      "userId": "14985529302101757066"
     },
     "user_tz": -180
    },
    "id": "8e90589b-a875-4e17-9f87-dce0c49cb054",
    "outputId": "8fbd9790-c600-4666-9db7-40d9c79af691"
   },
   "outputs": [
    {
     "data": {
      "text/plain": [
       "Dataset({\n",
       "    features: ['text', 'summary'],\n",
       "    num_rows: 154\n",
       "})"
      ]
     },
     "execution_count": 221,
     "metadata": {},
     "output_type": "execute_result"
    }
   ],
   "source": [
    "lyrics_data['train']"
   ]
  },
  {
   "cell_type": "code",
   "execution_count": 222,
   "id": "0ea66f3a-47f1-4c9a-9b20-b6c4f90aff62",
   "metadata": {
    "colab": {
     "base_uri": "https://localhost:8080/"
    },
    "executionInfo": {
     "elapsed": 6,
     "status": "ok",
     "timestamp": 1691330743282,
     "user": {
      "displayName": "Ilya",
      "userId": "14985529302101757066"
     },
     "user_tz": -180
    },
    "id": "0ea66f3a-47f1-4c9a-9b20-b6c4f90aff62",
    "outputId": "e7ac6d89-83a4-4903-aaae-8bd6c9dbf889"
   },
   "outputs": [
    {
     "data": {
      "text/plain": [
       "Dataset({\n",
       "    features: ['text', 'summary'],\n",
       "    num_rows: 39\n",
       "})"
      ]
     },
     "execution_count": 222,
     "metadata": {},
     "output_type": "execute_result"
    }
   ],
   "source": [
    "lyrics_data['test']"
   ]
  },
  {
   "cell_type": "markdown",
   "id": "93f8bf65-9737-455b-90b9-ebfb048f5b05",
   "metadata": {
    "id": "93f8bf65-9737-455b-90b9-ebfb048f5b05"
   },
   "source": [
    "# Load model"
   ]
  },
  {
   "cell_type": "markdown",
   "id": "76f15a28-7fcd-4527-a4d1-33824578aa95",
   "metadata": {},
   "source": [
    "Load model, tokenizer and optimizer. We use T5 base and Adam   "
   ]
  },
  {
   "cell_type": "code",
   "execution_count": null,
   "id": "6e500f45-e7fb-4e4d-9931-96809f79150d",
   "metadata": {
    "colab": {
     "base_uri": "https://localhost:8080/"
    },
    "executionInfo": {
     "elapsed": 3160,
     "status": "ok",
     "timestamp": 1691330746438,
     "user": {
      "displayName": "Ilya",
      "userId": "14985529302101757066"
     },
     "user_tz": -180
    },
    "id": "6e500f45-e7fb-4e4d-9931-96809f79150d",
    "outputId": "01b05cfa-a4a4-4816-d537-1c4eafcfb1be",
    "tags": []
   },
   "outputs": [],
   "source": [
    "# load model\n",
    "raw_model = None\n",
    "model = None\n",
    "\n",
    "gc.collect()\n",
    "with torch.no_grad():\n",
    "    torch.cuda.empty_cache()\n",
    "\n",
    "raw_model = config['model_name']\n",
    "model = T5ForConditionalGeneration.from_pretrained(raw_model).to('cuda')\n",
    "tokenizer = T5Tokenizer.from_pretrained(raw_model)\n",
    "\n",
    "# optimizer\n",
    "optimizer = torch.optim.Adam(model.parameters(), lr=config['learning_rate'])\n"
   ]
  },
  {
   "cell_type": "markdown",
   "id": "03a1456e-4d45-4824-9a01-68e986a13e8c",
   "metadata": {},
   "source": [
    "We need to train model for the correct newline placement. But t5 tokenizer simply remove newline symbols from data.\n",
    "\n",
    "So we need to replace them to some simple but rare tokens, for example underscore"
   ]
  },
  {
   "cell_type": "code",
   "execution_count": 224,
   "id": "1a33db49-076b-4c3e-9728-0192ea607f34",
   "metadata": {
    "executionInfo": {
     "elapsed": 10,
     "status": "ok",
     "timestamp": 1691330746439,
     "user": {
      "displayName": "Ilya",
      "userId": "14985529302101757066"
     },
     "user_tz": -180
    },
    "id": "1a33db49-076b-4c3e-9728-0192ea607f34"
   },
   "outputs": [],
   "source": [
    "# tokenization func\n",
    "def preprocess_function(examples):\n",
    "    # Replace newline characters with a special token\n",
    "    examples[\"text\"] = [text.replace('\\n', ' _ ') for text in examples[\"text\"]]\n",
    "    examples[\"summary\"] = [summary.replace('\\n', ' _ ') for summary in examples[\"summary\"]]\n",
    "\n",
    "    model_inputs = tokenizer(\n",
    "        examples[\"text\"],\n",
    "        max_length=config['max_source_tokens_count'],\n",
    "        truncation=True,\n",
    "    )\n",
    "    labels = tokenizer(\n",
    "        examples[\"summary\"], max_length=config['max_target_tokens_count'], truncation=True\n",
    "    )\n",
    "\n",
    "    model_inputs[\"labels\"] = labels[\"input_ids\"]\n",
    "    return model_inputs\n",
    "\n",
    "def decode_output(output):\n",
    "    # Replace the special character with newline\n",
    "    text = re.sub(r'\\s*_\\s*', '\\n', output)\n",
    "    return text"
   ]
  },
  {
   "cell_type": "code",
   "execution_count": 225,
   "id": "3490eb33-ea2a-4e96-b746-ba82015ddd81",
   "metadata": {
    "colab": {
     "base_uri": "https://localhost:8080/",
     "height": 81,
     "referenced_widgets": [
      "3cbf31231b0c4697a0864606c55a962c",
      "278618a1df984adc9b498af89f90efa0",
      "6f6eaf69542a4ae0b93966bbf18c998e",
      "07b3f4429b6f4d4395e91d4480e9494b",
      "ac4a3d6ec19d41f7aa841191b6714771",
      "f5713c0502074c168b817ab9f0c13aaf",
      "ddae854a704b46fdbecf8881bb7f09e9",
      "965079178be6467cb88e815025d66ca0",
      "88965f2de820415d889ce53b63187d49",
      "e5ed85e91280407480e93703d60193d8",
      "47542cda56fa418b8269a752c077fc73",
      "307ddfe4c9f849fdb3783f820669d5aa",
      "f58503d29df545a89afc1e28441026df",
      "eafe4152ff8248939921ce9dd3005564",
      "3e667b9b749d41119732833a7cc02b3d",
      "6b65e4c7026e439282081004e87e1d91",
      "d4ca7740b6924e458a5a19148dc635e7",
      "ba3aa12be38042b2875ad08f96e8d5bb",
      "0d65030c84ec4dfd870563b4623eac45",
      "07b5066f4f9447dc989a8dc77f525319",
      "39e04d9fbde74cd89767f239d0ed04ed",
      "d58272e8bc7046079b353b535955766a"
     ]
    },
    "executionInfo": {
     "elapsed": 677,
     "status": "ok",
     "timestamp": 1691330747107,
     "user": {
      "displayName": "Ilya",
      "userId": "14985529302101757066"
     },
     "user_tz": -180
    },
    "id": "3490eb33-ea2a-4e96-b746-ba82015ddd81",
    "outputId": "ad7ff182-a1ce-482c-92e3-a575c59ea994"
   },
   "outputs": [
    {
     "data": {
      "application/vnd.jupyter.widget-view+json": {
       "model_id": "3cbf31231b0c4697a0864606c55a962c",
       "version_major": 2,
       "version_minor": 0
      },
      "text/plain": [
       "Map:   0%|          | 0/154 [00:00<?, ? examples/s]"
      ]
     },
     "metadata": {},
     "output_type": "display_data"
    },
    {
     "data": {
      "application/vnd.jupyter.widget-view+json": {
       "model_id": "307ddfe4c9f849fdb3783f820669d5aa",
       "version_major": 2,
       "version_minor": 0
      },
      "text/plain": [
       "Map:   0%|          | 0/39 [00:00<?, ? examples/s]"
      ]
     },
     "metadata": {},
     "output_type": "display_data"
    }
   ],
   "source": [
    "lyrics_data_tok = lyrics_data.map(preprocess_function, batched=True)"
   ]
  },
  {
   "cell_type": "code",
   "execution_count": 226,
   "id": "b56ceb61-3c8f-4912-90f9-0524d163f607",
   "metadata": {
    "executionInfo": {
     "elapsed": 12,
     "status": "ok",
     "timestamp": 1691330747108,
     "user": {
      "displayName": "Ilya",
      "userId": "14985529302101757066"
     },
     "user_tz": -180
    },
    "id": "b56ceb61-3c8f-4912-90f9-0524d163f607"
   },
   "outputs": [],
   "source": [
    "lyrics_data_tok = lyrics_data_tok.remove_columns(\n",
    "    lyrics_data[\"train\"].column_names\n",
    ")"
   ]
  },
  {
   "cell_type": "code",
   "execution_count": 227,
   "id": "d5dc6da5-66a4-4016-8f44-3ddfc15c76f6",
   "metadata": {
    "executionInfo": {
     "elapsed": 11,
     "status": "ok",
     "timestamp": 1691330747108,
     "user": {
      "displayName": "Ilya",
      "userId": "14985529302101757066"
     },
     "user_tz": -180
    },
    "id": "d5dc6da5-66a4-4016-8f44-3ddfc15c76f6"
   },
   "outputs": [],
   "source": [
    "#news_data_tok.reset_format()\n",
    "lyrics_data_tok.set_format(type='torch')"
   ]
  },
  {
   "cell_type": "markdown",
   "id": "cd4d3e35-87ac-40ba-acd7-95b76b2847f2",
   "metadata": {},
   "source": [
    "We can consider this problem as Seq2Seq task. So we will use the corresponding data collator"
   ]
  },
  {
   "cell_type": "code",
   "execution_count": 228,
   "id": "683972b5-3756-4d56-9c39-bd9790b4fca3",
   "metadata": {
    "executionInfo": {
     "elapsed": 11,
     "status": "ok",
     "timestamp": 1691330747108,
     "user": {
      "displayName": "Ilya",
      "userId": "14985529302101757066"
     },
     "user_tz": -180
    },
    "id": "683972b5-3756-4d56-9c39-bd9790b4fca3"
   },
   "outputs": [],
   "source": [
    "data_collator = DataCollatorForSeq2Seq(tokenizer, model, padding=True, max_length=config['max_source_tokens_count'])"
   ]
  },
  {
   "cell_type": "code",
   "execution_count": 229,
   "id": "e8079b42-c818-49bb-a340-b5cea2c9e93f",
   "metadata": {
    "executionInfo": {
     "elapsed": 10,
     "status": "ok",
     "timestamp": 1691330747108,
     "user": {
      "displayName": "Ilya",
      "userId": "14985529302101757066"
     },
     "user_tz": -180
    },
    "id": "e8079b42-c818-49bb-a340-b5cea2c9e93f"
   },
   "outputs": [],
   "source": [
    "dataloader_train = DataLoader(lyrics_data_tok['train'], batch_size=config['batch_size'], shuffle=True,\\\n",
    "                             collate_fn=data_collator)\n",
    "\n",
    "dataloader_val = DataLoader(lyrics_data_tok['test'], batch_size=config['batch_size'], shuffle=False,\\\n",
    "                             collate_fn=data_collator)"
   ]
  },
  {
   "cell_type": "markdown",
   "id": "d8068703-ed15-4424-9d40-3b67eade6171",
   "metadata": {},
   "source": [
    "OneCycleLR scheduler seems to be effective in a wide range of tasks"
   ]
  },
  {
   "cell_type": "code",
   "execution_count": 230,
   "id": "8865e527-81de-49b6-83a6-ac5b87b3a079",
   "metadata": {
    "executionInfo": {
     "elapsed": 9,
     "status": "ok",
     "timestamp": 1691330747108,
     "user": {
      "displayName": "Ilya",
      "userId": "14985529302101757066"
     },
     "user_tz": -180
    },
    "id": "8865e527-81de-49b6-83a6-ac5b87b3a079"
   },
   "outputs": [],
   "source": [
    "# scheduler\n",
    "scheduler = torch.optim.lr_scheduler.OneCycleLR(optimizer, max_lr=4*config['learning_rate'],\\\n",
    "                                                steps_per_epoch=len(dataloader_train), epochs=config['epoch_number'])"
   ]
  },
  {
   "cell_type": "code",
   "execution_count": 231,
   "id": "c969b1ee-8c2f-4736-80fe-b6f63db08b3f",
   "metadata": {
    "colab": {
     "base_uri": "https://localhost:8080/"
    },
    "executionInfo": {
     "elapsed": 9,
     "status": "ok",
     "timestamp": 1691330747108,
     "user": {
      "displayName": "Ilya",
      "userId": "14985529302101757066"
     },
     "user_tz": -180
    },
    "id": "c969b1ee-8c2f-4736-80fe-b6f63db08b3f",
    "outputId": "d269075a-a511-4fa9-e254-682007d188ce"
   },
   "outputs": [
    {
     "data": {
      "text/plain": [
       "77"
      ]
     },
     "execution_count": 231,
     "metadata": {},
     "output_type": "execute_result"
    }
   ],
   "source": [
    "len(dataloader_train)"
   ]
  },
  {
   "cell_type": "markdown",
   "id": "233c02f6-50e2-4dd0-a817-ab901933d35a",
   "metadata": {},
   "source": [
    "It is tricky to choose metrics for this problem. We want our model to catch the style of the song not just repeat \n",
    "the target text. \n",
    "\n",
    "However it is not clear how can one define the style. But we may just use standart metrics as our starting point"
   ]
  },
  {
   "cell_type": "code",
   "execution_count": 234,
   "id": "32b67d7e-127f-4bfb-b489-99930924942e",
   "metadata": {
    "executionInfo": {
     "elapsed": 3201,
     "status": "ok",
     "timestamp": 1691330750306,
     "user": {
      "displayName": "Ilya",
      "userId": "14985529302101757066"
     },
     "user_tz": -180
    },
    "id": "32b67d7e-127f-4bfb-b489-99930924942e"
   },
   "outputs": [],
   "source": [
    "#metrics\n",
    "rouge_score = evaluate.load(\"rouge\")\n",
    "bleu_score = evaluate.load(\"bleu\")"
   ]
  },
  {
   "cell_type": "markdown",
   "id": "bHND9KOK6vKj",
   "metadata": {
    "id": "bHND9KOK6vKj"
   },
   "source": [
    "# Train and validation"
   ]
  },
  {
   "cell_type": "markdown",
   "id": "b5b1b95d-d487-4f9d-b3f9-f7374b957915",
   "metadata": {},
   "source": [
    "Training loop. We save the model which shows the best BLEU score on validation"
   ]
  },
  {
   "cell_type": "code",
   "execution_count": 235,
   "id": "a1d197f4-b607-4ece-8cee-c164ba999d42",
   "metadata": {
    "colab": {
     "base_uri": "https://localhost:8080/",
     "height": 1000,
     "referenced_widgets": [
      "ecce34476421428fa3f5583019ed1d9e",
      "2eee612c057844e6a9665d35c8eff40d",
      "5c9904feed95415091c369e6ed8cff26",
      "bc1696ed525844348d31f3d2d8367a7a",
      "5c32d91f691c44f39c43b57aff56db43",
      "517b13e47418408a8cee0170e51a65c7",
      "b86382b3b7a94c32869fa040b62e5f71",
      "3ba6447e0c8240ffb96626b045a09218",
      "1b258852665a42dc9f2ceb2d167fd5b4",
      "d79ccdd323f94590a9f59ec8b2560bf8",
      "a8d024400a614832b18489788235de33",
      "f67c716748b049608ba51764d1cbcb55",
      "b04ad05b1ed1429ba2f5991336d6cd09",
      "e5c5e8df4e704aeba94390ccf3649d66",
      "c9cde073190e4ff5bab95fdf252dc316",
      "42026aca6f204c7da3c4ccd6800ac9f0",
      "9443737e834e408e8d34ae5ef22d3bcc",
      "6232c80e03fa4d0280bec00361d8bb09",
      "dd46d8739a764954894b1555bda657cd",
      "1b258d15f7fb441ea68e1c3f54869e6f",
      "65c1a827bc89480e8059e3c4520403cf",
      "7fd445ca4f1247ed9c3babd10a607018",
      "ff63b639f1624b179d5833b07ce5cb27",
      "9a7d8cd7e162453abbaf7e0b6f1b2a62",
      "49334d8a8e65476fb652f9ee3bc1879d",
      "e63a0bbc33dc4789aefb64abc59df5ac",
      "1aea80a661bd42748bccdeaffffa2e1c",
      "353067680fca4f8f87832e12dbb5f10b",
      "c8148be356674d7dbdf3ffb0dc8fcd7c",
      "77bddf6ae5844c4f88c5f4220b1dc8ae",
      "e7f88cc00b6547319226bb90d3e276cb",
      "f50fe61ec4c34131a1f68d9aaeb930d5",
      "876972be869f4dafb7a0de4bf36920e8",
      "b37eb483c46d4aeb8c24582408e8c40a",
      "339cb373c20e449aa677defbbbf7a124",
      "44497fa642b34a91a148d05c927a6da9",
      "1cc2184ac6e54cfe9bd28eb7c41ce3c5",
      "47274a56645c4f3cb6a3e1c39446dff5",
      "61a1ba0c02b7453fba0c3809ba713a88",
      "cdede5256cd549e1bce2e7cff680c3de",
      "2c8ef11641e14fd5a19d86be036c3a0c",
      "49843394dde14a918db5f688b353919c",
      "7d1373f9e65445ba9498722238bb0f09",
      "60f360c0e846405ea100e2cfeb84f564",
      "a1ac9c21784a4e979272855cbc782db0",
      "7e2b727b430d4536a48c87de1329c572",
      "05f81bcd9a68464eb585a49f4a22a38c",
      "7acd163acefe479a97bbec346f2cac5d",
      "b6de7d51702042c58724efe83500d186",
      "20a91b41f62c498ab64c67a650449a42",
      "21b04e4840834da39783a44e17a8956b",
      "77784853e4c048018b8b82ac44870d3d",
      "d634e6d077374ddda684c55893353a2e",
      "1e3e719e50af45afbbb9d0f177797898",
      "c126f6939f364c0c88d1fbe62c427cdd",
      "1de476859e2247958af744d7fb46bad7",
      "174b2f47f9eb408b9ad82b2fc4b9d40c",
      "a583f87a859b45f39cfe5b7d8e17b275",
      "8339adb9b4804a759ed691a5f0200907",
      "bc46835bc5d84aff98265c32c5f9a86a",
      "99609edff700405c9d31fee7f497366b",
      "cefd9dc415b741ce957ad9aa1fa254f3",
      "7d27124bbb8a4c55a5dffff6f4edd9a6",
      "5f1ccf1c880448708e78915b36b332ca",
      "27dd1987234a4d79b5f76cfc788fd811",
      "464234716f3d4046835238c29aa6ef1e",
      "f5b312b2c4cb4bb69ccde0bb4fad136a",
      "1237b9e1a0c147c990ec6d59eb812a04",
      "710bb8e0109e44a8bddef08970804680",
      "a5e2f57a1508412c9f0bcff48b975ace",
      "b228572fb3854e4faaf3f021f2eba265",
      "2d92d473879d4fcf9f4a4dee4c0b54eb",
      "b0173c317c2a4bb9939aa4d7905a316c",
      "3fd6b36a50fe4a648ee461694619cb56",
      "955507a9eb864b16bb55c9e709bc191d",
      "1f49bb55d0144f0a8c2935553805143e",
      "8b41660f5b764115891b0ca1343285d8",
      "745d1ee5eed4447aa126f518b450b116",
      "209058e2cc244f959459dacaf182e36c",
      "920c14079f644c80bee0fec7980f8bc8",
      "ebdb700f2a9546f8869cb0c9be9b63c8",
      "6583ad31383048a88c24cb85ed9ba4d2",
      "e05bc1ad5e894a1cbea897d9ac29dbe1",
      "efbe907908cc48909dba469683522b50",
      "c1bb9aa26f8640efa2ebff78232d26b5",
      "b7370a9a52624f5bae717d1d9751f82e",
      "448f4ef25e2f4895a3c972c829fe29e1",
      "fab4351758a84b62b0328acb1001ed10",
      "8f17ae7bf99c4b318e8877f8b05be35b",
      "179e11a7e2214d8daeb76c26c868f701",
      "61f2497306b84bfc92a1ad91cf3afff6",
      "adf24338c14e4e62ba4d3e9e7e3eb407",
      "55f04219c8f4441e93c82f1612370fd9",
      "7069acddd3f548138d7574291ad49fdb",
      "445eec93c7f84509b3b4a11ebcb5e884",
      "6db2fe51c7ed43229efd1e34dcdcc63d",
      "88a0f51048fd4e3fbf12f4a2d84e0724",
      "2a2fbd81cd7c465b931ad8d1da1e0648",
      "f172ab201474447ba2f243fe04e5413e",
      "a1192a1447a9414b9626d61bf2d83e38",
      "d760f47244f5492f9d76ff989b809967",
      "daca45a275cf402da8c8eb6d1523d58a",
      "684064b6409349cf8bb6ff8d4205aa29",
      "3c4134e155824f91b221aa1bbbb545f3",
      "57acf53e52b7449fb0e3c95a3d313b15",
      "864e98272db44bf4a4bf819664d72984",
      "36118f14fdc34e08b59bf21c048bd465",
      "bc06782c016e41c59cda6a83aafc37cf",
      "fc3305f606a1487a9d4d7020f4ca30ac",
      "b4636abe91414841a1eb84182aab6d79"
     ]
    },
    "executionInfo": {
     "elapsed": 358234,
     "status": "ok",
     "timestamp": 1691331108526,
     "user": {
      "displayName": "Ilya",
      "userId": "14985529302101757066"
     },
     "user_tz": -180
    },
    "id": "a1d197f4-b607-4ece-8cee-c164ba999d42",
    "outputId": "86a1907e-0c4a-4e9d-e157-77659a65ad55"
   },
   "outputs": [
    {
     "name": "stdout",
     "output_type": "stream",
     "text": [
      "EPOCH 0\n"
     ]
    },
    {
     "data": {
      "application/vnd.jupyter.widget-view+json": {
       "model_id": "ecce34476421428fa3f5583019ed1d9e",
       "version_major": 2,
       "version_minor": 0
      },
      "text/plain": [
       "  0%|          | 0/77 [00:00<?, ?it/s]"
      ]
     },
     "metadata": {},
     "output_type": "display_data"
    },
    {
     "name": "stdout",
     "output_type": "stream",
     "text": [
      "step 20 loss 13.691076278686523\n",
      "\n",
      "Last lr: [4.4189955560725246e-07]\n",
      "step 40 loss 13.627691650390625\n",
      "\n",
      "Last lr: [1.2048197230002943e-06]\n",
      "step 60 loss 12.266573476791383\n",
      "\n",
      "Last lr: [2.224732527020888e-06]\n"
     ]
    },
    {
     "data": {
      "application/vnd.jupyter.widget-view+json": {
       "model_id": "f67c716748b049608ba51764d1cbcb55",
       "version_major": 2,
       "version_minor": 0
      },
      "text/plain": [
       "  0%|          | 0/20 [00:00<?, ?it/s]"
      ]
     },
     "metadata": {},
     "output_type": "display_data"
    },
    {
     "name": "stdout",
     "output_type": "stream",
     "text": [
      "\n",
      "Scores rouge: {'rouge1': 0.22469225259145667, 'rouge2': 0.1034394850332666, 'rougeL': 0.1613554654336125, 'rougeLsum': 0.1808030163703559}\n",
      "\n",
      "Scores bleu: {'bleu': 0.004419109024610216, 'precisions': [0.6172350791717418, 0.27704160246533127, 0.13537117903930132, 0.08462267129775813], 'brevity_penalty': 0.021005478687918643, 'length_ratio': 0.20563556668753913, 'translation_length': 3284, 'reference_length': 15970}\n",
      "EPOCH 0, model saved to model_best\n",
      "EPOCH 1\n"
     ]
    },
    {
     "data": {
      "application/vnd.jupyter.widget-view+json": {
       "model_id": "ff63b639f1624b179d5833b07ce5cb27",
       "version_major": 2,
       "version_minor": 0
      },
      "text/plain": [
       "  0%|          | 0/77 [00:00<?, ?it/s]"
      ]
     },
     "metadata": {},
     "output_type": "display_data"
    },
    {
     "name": "stdout",
     "output_type": "stream",
     "text": [
      "step 20 loss 8.54623098373413\n",
      "\n",
      "Last lr: [3.7828918458131976e-06]\n",
      "step 40 loss 6.892872381210327\n",
      "\n",
      "Last lr: [3.99915076135441e-06]\n",
      "step 60 loss 5.874797034263611\n",
      "\n",
      "Last lr: [3.93160027468214e-06]\n"
     ]
    },
    {
     "data": {
      "application/vnd.jupyter.widget-view+json": {
       "model_id": "b37eb483c46d4aeb8c24582408e8c40a",
       "version_major": 2,
       "version_minor": 0
      },
      "text/plain": [
       "  0%|          | 0/20 [00:00<?, ?it/s]"
      ]
     },
     "metadata": {},
     "output_type": "display_data"
    },
    {
     "name": "stdout",
     "output_type": "stream",
     "text": [
      "\n",
      "Scores rouge: {'rouge1': 0.2326054780373918, 'rouge2': 0.09561387594279089, 'rougeL': 0.1563202508705063, 'rougeLsum': 0.17657691024825983}\n",
      "\n",
      "Scores bleu: {'bleu': 0.00483522595075641, 'precisions': [0.6213364595545134, 0.25437296175511415, 0.1205758848230354, 0.07101669195751138], 'brevity_penalty': 0.025209376429002516, 'length_ratio': 0.21365059486537258, 'translation_length': 3412, 'reference_length': 15970}\n",
      "EPOCH 1, model saved to model_best\n",
      "EPOCH 2\n"
     ]
    },
    {
     "data": {
      "application/vnd.jupyter.widget-view+json": {
       "model_id": "a1ac9c21784a4e979272855cbc782db0",
       "version_major": 2,
       "version_minor": 0
      },
      "text/plain": [
       "  0%|          | 0/77 [00:00<?, ?it/s]"
      ]
     },
     "metadata": {},
     "output_type": "display_data"
    },
    {
     "name": "stdout",
     "output_type": "stream",
     "text": [
      "step 20 loss 4.448419427871704\n",
      "\n",
      "Last lr: [3.5379028990745216e-06]\n",
      "step 40 loss 4.22457846403122\n",
      "\n",
      "Last lr: [3.2008902566761114e-06]\n",
      "step 60 loss 3.8213029861450196\n",
      "\n",
      "Last lr: [2.798898386077968e-06]\n"
     ]
    },
    {
     "data": {
      "application/vnd.jupyter.widget-view+json": {
       "model_id": "1de476859e2247958af744d7fb46bad7",
       "version_major": 2,
       "version_minor": 0
      },
      "text/plain": [
       "  0%|          | 0/20 [00:00<?, ?it/s]"
      ]
     },
     "metadata": {},
     "output_type": "display_data"
    },
    {
     "name": "stdout",
     "output_type": "stream",
     "text": [
      "\n",
      "Scores rouge: {'rouge1': 0.23575238868905168, 'rouge2': 0.10727286381927645, 'rougeL': 0.16591659724083418, 'rougeLsum': 0.18280524442531498}\n",
      "\n",
      "Scores bleu: {'bleu': 0.005282919661472261, 'precisions': [0.6252204585537919, 0.27951234017246507, 0.13778580024067388, 0.08462709284627093], 'brevity_penalty': 0.024864915825657186, 'length_ratio': 0.21302442078897935, 'translation_length': 3402, 'reference_length': 15970}\n",
      "EPOCH 2, model saved to model_best\n",
      "EPOCH 3\n"
     ]
    },
    {
     "data": {
      "application/vnd.jupyter.widget-view+json": {
       "model_id": "f5b312b2c4cb4bb69ccde0bb4fad136a",
       "version_major": 2,
       "version_minor": 0
      },
      "text/plain": [
       "  0%|          | 0/77 [00:00<?, ?it/s]"
      ]
     },
     "metadata": {},
     "output_type": "display_data"
    },
    {
     "name": "stdout",
     "output_type": "stream",
     "text": [
      "step 20 loss 3.6609155774116515\n",
      "\n",
      "Last lr: [1.9592110884054893e-06]\n",
      "step 40 loss 3.528280532360077\n",
      "\n",
      "Last lr: [1.4983409191869048e-06]\n",
      "step 60 loss 3.4854594230651856\n",
      "\n",
      "Last lr: [1.0646157423630583e-06]\n"
     ]
    },
    {
     "data": {
      "application/vnd.jupyter.widget-view+json": {
       "model_id": "745d1ee5eed4447aa126f518b450b116",
       "version_major": 2,
       "version_minor": 0
      },
      "text/plain": [
       "  0%|          | 0/20 [00:00<?, ?it/s]"
      ]
     },
     "metadata": {},
     "output_type": "display_data"
    },
    {
     "name": "stdout",
     "output_type": "stream",
     "text": [
      "\n",
      "Scores rouge: {'rouge1': 0.23218865968612273, 'rouge2': 0.1016135234389686, 'rougeL': 0.15987654296122716, 'rougeLsum': 0.17710664944342147}\n",
      "\n",
      "Scores bleu: {'bleu': 0.0052751820121178915, 'precisions': [0.6143523920653442, 0.26674535261138976, 0.12955223880597014, 0.0827544548474781], 'brevity_penalty': 0.0257661641323532, 'length_ratio': 0.21465247338760177, 'translation_length': 3428, 'reference_length': 15970}\n",
      "EPOCH 4\n"
     ]
    },
    {
     "data": {
      "application/vnd.jupyter.widget-view+json": {
       "model_id": "8f17ae7bf99c4b318e8877f8b05be35b",
       "version_major": 2,
       "version_minor": 0
      },
      "text/plain": [
       "  0%|          | 0/77 [00:00<?, ?it/s]"
      ]
     },
     "metadata": {},
     "output_type": "display_data"
    },
    {
     "name": "stdout",
     "output_type": "stream",
     "text": [
      "step 20 loss 3.4042195081710815\n",
      "\n",
      "Last lr: [4.11240184272458e-07]\n",
      "step 40 loss 3.3979497075080873\n",
      "\n",
      "Last lr: [1.735571256934769e-07]\n",
      "step 60 loss 3.4489336967468263\n",
      "\n",
      "Last lr: [3.470254717353245e-08]\n"
     ]
    },
    {
     "data": {
      "application/vnd.jupyter.widget-view+json": {
       "model_id": "a1192a1447a9414b9626d61bf2d83e38",
       "version_major": 2,
       "version_minor": 0
      },
      "text/plain": [
       "  0%|          | 0/20 [00:00<?, ?it/s]"
      ]
     },
     "metadata": {},
     "output_type": "display_data"
    },
    {
     "name": "stdout",
     "output_type": "stream",
     "text": [
      "\n",
      "Scores rouge: {'rouge1': 0.23767407302946755, 'rouge2': 0.10473544293181211, 'rougeL': 0.16431811371649313, 'rougeLsum': 0.1837829550188019}\n",
      "\n",
      "Scores bleu: {'bleu': 0.005564530222507383, 'precisions': [0.6245288489417222, 0.2709677419354839, 0.13230495401957876, 0.08673469387755102], 'brevity_penalty': 0.026507498302641926, 'length_ratio': 0.21596743894802756, 'translation_length': 3449, 'reference_length': 15970}\n",
      "EPOCH 4, model saved to model_best\n"
     ]
    }
   ],
   "source": [
    "# train and validation\n",
    "\n",
    "losses = []\n",
    "val_losses = []\n",
    "scores_bl_list = []\n",
    "scores_rouge_list = []\n",
    "scores_bleu_epoch = -100\n",
    "report_steps = config[\"report_steps\"]\n",
    "for epoch in range(config['epoch_number']):\n",
    "    model.train()\n",
    "    print('EPOCH', epoch)\n",
    "\n",
    "    i = 0\n",
    "    for batch in tqdm(dataloader_train):\n",
    "\n",
    "        loss = model(\n",
    "            input_ids=batch.input_ids.to(model.device),\n",
    "            labels=batch.labels.to(model.device),\n",
    "            return_dict=True\n",
    "        ).loss\n",
    "        loss.backward()\n",
    "        optimizer.step()\n",
    "        scheduler.step()\n",
    "        optimizer.zero_grad()\n",
    "        losses.append(loss.item())\n",
    "\n",
    "        i+=1\n",
    "        if i % report_steps == 0:\n",
    "            print('step', i, 'loss', np.mean(losses[-report_steps:]))\n",
    "            print(f'\\nLast lr: {scheduler.get_last_lr()}')\n",
    "\n",
    "    # validation\n",
    "    model.eval()\n",
    "    predictions_list = []\n",
    "    targets_list = []\n",
    "    text_list = []\n",
    "    with torch.no_grad():\n",
    "        for batch in tqdm(dataloader_val):\n",
    "            output_ids = model.generate(input_ids=batch.input_ids.to(model.device), no_repeat_ngram_size=4,\n",
    "                                    do_sample=True, early_stopping=True, max_length=200, temperature=1.0)\n",
    "\n",
    "            texts = [tokenizer.decode(g, skip_special_tokens=True, clean_up_tokenization_spaces=True) for g in batch.input_ids]\n",
    "            preds = [tokenizer.decode(g, skip_special_tokens=True, clean_up_tokenization_spaces=True) for g in output_ids]\n",
    "\n",
    "            batch.labels[batch.labels == -100] = tokenizer.pad_token_id\n",
    "            targets = [tokenizer.decode(t, skip_special_tokens=True, clean_up_tokenization_spaces=True) for t in batch.labels]\n",
    "\n",
    "            #we need to seperate sentences with \\n for rouge correct evaluation\n",
    "            preds = [\"\\n\".join(nltk.sent_tokenize(pred)) for pred in preds]\n",
    "            targets = [\"\\n\".join(nltk.sent_tokenize(target)) for target in targets]\n",
    "\n",
    "            predictions_list.extend(preds)\n",
    "            targets_list.extend(targets)\n",
    "            text_list.extend(texts)\n",
    "\n",
    "        scores_rouge = rouge_score.compute(predictions=predictions_list, references=targets_list, tokenizer=word_tokenize)\n",
    "        scores_rouge_list.append(scores_rouge)\n",
    "        print(f'\\nScores rouge: {scores_rouge}')\n",
    "        scores_bleu = bleu_score.compute(predictions=predictions_list, references=targets_list, tokenizer=word_tokenize)\n",
    "        scores_bl_list.append(scores_bleu)\n",
    "        print(f'\\nScores bleu: {scores_bleu}')\n",
    "\n",
    "        if scores_bleu['bleu'] > scores_bleu_epoch:\n",
    "            new_model_name = config['output_dir']\n",
    "            model.save_pretrained(new_model_name)\n",
    "            tokenizer.save_pretrained(new_model_name)\n",
    "            print(f'EPOCH {epoch}, model saved to {new_model_name}')\n",
    "            scores_bleu_epoch = scores_bleu['bleu']"
   ]
  },
  {
   "cell_type": "markdown",
   "id": "7b55d373-721d-48ec-879c-a2dd94e63c18",
   "metadata": {},
   "source": [
    "We can save losses and metrics to files. Better option is to use Wandb of course. However for some reason we have used oldschool technique here"
   ]
  },
  {
   "cell_type": "code",
   "execution_count": 236,
   "id": "3Nb7hrgg-ltu",
   "metadata": {
    "executionInfo": {
     "elapsed": 21,
     "status": "ok",
     "timestamp": 1691331108526,
     "user": {
      "displayName": "Ilya",
      "userId": "14985529302101757066"
     },
     "user_tz": -180
    },
    "id": "3Nb7hrgg-ltu"
   },
   "outputs": [],
   "source": [
    "with open('losses.txt', 'w') as f:\n",
    "    f.write(str(losses))\n",
    "\n",
    "with open('rouge.txt', 'w') as f:\n",
    "    f.write(str(scores_rouge_list))\n",
    "\n",
    "with open('blue.txt', 'w') as f:\n",
    "    f.write(str(scores_bl_list))"
   ]
  },
  {
   "cell_type": "code",
   "execution_count": 237,
   "id": "JvnbDGrc-qUT",
   "metadata": {
    "executionInfo": {
     "elapsed": 17,
     "status": "ok",
     "timestamp": 1691331108526,
     "user": {
      "displayName": "Ilya",
      "userId": "14985529302101757066"
     },
     "user_tz": -180
    },
    "id": "JvnbDGrc-qUT"
   },
   "outputs": [],
   "source": [
    "def moving_average(a, n=3):\n",
    "    ret = np.cumsum(a, dtype=float)\n",
    "    ret[n:] = ret[n:] - ret[:-n]\n",
    "    return ret[n - 1:] / n"
   ]
  },
  {
   "cell_type": "markdown",
   "id": "2932a150-fb43-4f73-adba-2990538d9fe0",
   "metadata": {},
   "source": [
    "Just the plot of the train loss"
   ]
  },
  {
   "cell_type": "code",
   "execution_count": 238,
   "id": "Qvgzc7Nk-sfe",
   "metadata": {
    "colab": {
     "base_uri": "https://localhost:8080/",
     "height": 447
    },
    "executionInfo": {
     "elapsed": 18,
     "status": "ok",
     "timestamp": 1691331108527,
     "user": {
      "displayName": "Ilya",
      "userId": "14985529302101757066"
     },
     "user_tz": -180
    },
    "id": "Qvgzc7Nk-sfe",
    "outputId": "c6bd3dbf-c7d1-45d6-aecc-837ecebddbb2"
   },
   "outputs": [
    {
     "data": {
      "text/plain": [
       "[<matplotlib.lines.Line2D at 0x788625773550>]"
      ]
     },
     "execution_count": 238,
     "metadata": {},
     "output_type": "execute_result"
    },
    {
     "data": {
      "image/png": "[encoded data removed]",
      "text/plain": [
       "<Figure size 640x480 with 1 Axes>"
      ]
     },
     "metadata": {},
     "output_type": "display_data"
    }
   ],
   "source": [
    "plt.plot(moving_average(losses, n=30))"
   ]
  },
  {
   "cell_type": "markdown",
   "id": "RqL9iNF5_5uU",
   "metadata": {
    "id": "RqL9iNF5_5uU"
   },
   "source": [
    "# Load best model"
   ]
  },
  {
   "cell_type": "markdown",
   "id": "5e192ee5-440c-42c7-8262-b50ada0d30d1",
   "metadata": {},
   "source": [
    "Here we just load the best model and look at its performance"
   ]
  },
  {
   "cell_type": "code",
   "execution_count": 243,
   "id": "1AsXFuBv_zV_",
   "metadata": {
    "executionInfo": {
     "elapsed": 2933,
     "status": "ok",
     "timestamp": 1691331239266,
     "user": {
      "displayName": "Ilya",
      "userId": "14985529302101757066"
     },
     "user_tz": -180
    },
    "id": "1AsXFuBv_zV_"
   },
   "outputs": [],
   "source": [
    "# load model\n",
    "raw_model = None\n",
    "model = None\n",
    "\n",
    "gc.collect()\n",
    "with torch.no_grad():\n",
    "    torch.cuda.empty_cache()\n",
    "\n",
    "raw_model = \"/content/model_best\"\n",
    "model = T5ForConditionalGeneration.from_pretrained(raw_model).cuda()\n",
    "tokenizer = T5Tokenizer.from_pretrained(raw_model)"
   ]
  },
  {
   "cell_type": "markdown",
   "id": "e408be96-c715-40e2-83fc-4017af321e80",
   "metadata": {},
   "source": [
    "For generation we use nucleus sampling with rather high temperature and top_k parameters. This should be appropriate for lyrics generation model  \n",
    "\n",
    "However we try to fight repetitions as model tends to repeat the initial text a lot "
   ]
  },
  {
   "cell_type": "code",
   "execution_count": 324,
   "id": "QGKIoJNWACBw",
   "metadata": {
    "colab": {
     "base_uri": "https://localhost:8080/",
     "height": 49,
     "referenced_widgets": [
      "0d3b05f4d2ac4c2197a2e1ef0e47f0d0",
      "32b86f23c8914200ad88cf049ddf5afc",
      "fe8349fd82aa442889c8d121f33719e4",
      "fc550e86486b4fb6aaa5471e59bfd777",
      "eb8cebda3441486ebab567b20e52d82a",
      "238d6fe9f49845e3a294757c62b2677c",
      "bbab583d0e6e40b3bb9bb9c072ff5538",
      "4ff8f4c37e4a4a41994d5ff9d929b520",
      "be0d1bb40a9940e496eccb307e93eccf",
      "e515a49469fd4bf7b7a448ac95e9f16c",
      "5516cf8aa5dc4186ad37273ada99b2a8"
     ]
    },
    "executionInfo": {
     "elapsed": 60884,
     "status": "ok",
     "timestamp": 1691334054519,
     "user": {
      "displayName": "Ilya",
      "userId": "14985529302101757066"
     },
     "user_tz": -180
    },
    "id": "QGKIoJNWACBw",
    "outputId": "06d19981-6acb-47aa-b8a0-0ba0ab56b388"
   },
   "outputs": [
    {
     "data": {
      "application/vnd.jupyter.widget-view+json": {
       "model_id": "0d3b05f4d2ac4c2197a2e1ef0e47f0d0",
       "version_major": 2,
       "version_minor": 0
      },
      "text/plain": [
       "  0%|          | 0/20 [00:00<?, ?it/s]"
      ]
     },
     "metadata": {},
     "output_type": "display_data"
    }
   ],
   "source": [
    "# generation\n",
    "model.eval()\n",
    "predictions_list = []\n",
    "targets_list = []\n",
    "text_list = []\n",
    "with torch.no_grad():\n",
    "    for batch in tqdm(dataloader_val):\n",
    "\n",
    "        output_ids = model.generate(input_ids=batch.input_ids.to(model.device), no_repeat_ngram_size=3,\n",
    "                                    do_sample=True, early_stopping=True, max_length=200, temperature=1.2,\n",
    "                                    repetition_penalty=1.6, top_k=40, top_p=0.95)\n",
    "\n",
    "        preds = [tokenizer.decode(g, skip_special_tokens=True, clean_up_tokenization_spaces=True) for g in output_ids]\n",
    "        texts = [tokenizer.decode(g, skip_special_tokens=True, clean_up_tokenization_spaces=True) for g in batch.input_ids]\n",
    "\n",
    "        batch.labels[batch.labels == -100] = tokenizer.pad_token_id\n",
    "        targets = [tokenizer.decode(t, skip_special_tokens=True, clean_up_tokenization_spaces=True) for t in batch.labels]\n",
    "\n",
    "        predictions_list.extend(preds)\n",
    "        targets_list.extend(targets)\n",
    "        text_list.extend(texts)"
   ]
  },
  {
   "cell_type": "markdown",
   "id": "a88de21a-55bb-4771-9fbd-30cd4cb64ef8",
   "metadata": {},
   "source": [
    "We should replace our underscore symbol _ back to newline symbol"
   ]
  },
  {
   "cell_type": "code",
   "execution_count": 326,
   "id": "6ZdVbJtXM4dN",
   "metadata": {
    "executionInfo": {
     "elapsed": 549,
     "status": "ok",
     "timestamp": 1691334153392,
     "user": {
      "displayName": "Ilya",
      "userId": "14985529302101757066"
     },
     "user_tz": -180
    },
    "id": "6ZdVbJtXM4dN"
   },
   "outputs": [],
   "source": [
    "targets_proc = [decode_output(target) for target in targets_list]\n",
    "predictions_list_proc = [decode_output(pred) for pred in predictions_list]\n",
    "texts_proc = [decode_output(text) for text in text_list]"
   ]
  },
  {
   "cell_type": "code",
   "execution_count": 317,
   "id": "CbvOPU82M-bh",
   "metadata": {
    "colab": {
     "base_uri": "https://localhost:8080/"
    },
    "executionInfo": {
     "elapsed": 5,
     "status": "ok",
     "timestamp": 1691333929819,
     "user": {
      "displayName": "Ilya",
      "userId": "14985529302101757066"
     },
     "user_tz": -180
    },
    "id": "CbvOPU82M-bh",
    "outputId": "640af6c0-928b-4549-860a-feded50d0854"
   },
   "outputs": [
    {
     "data": {
      "text/plain": [
       "39"
      ]
     },
     "execution_count": 317,
     "metadata": {},
     "output_type": "execute_result"
    }
   ],
   "source": [
    "len(targets_list)"
   ]
  },
  {
   "cell_type": "code",
   "execution_count": 336,
   "id": "Dptl6ZpjNOik",
   "metadata": {
    "colab": {
     "base_uri": "https://localhost:8080/"
    },
    "executionInfo": {
     "elapsed": 496,
     "status": "ok",
     "timestamp": 1691334284128,
     "user": {
      "displayName": "Ilya",
      "userId": "14985529302101757066"
     },
     "user_tz": -180
    },
    "id": "Dptl6ZpjNOik",
    "outputId": "b9f08d2b-5faf-4eaf-d648-8f5cb58de371"
   },
   "outputs": [
    {
     "name": "stdout",
     "output_type": "stream",
     "text": [
      "[Verse 1]\n",
      "The drought was the very worst (Oh-oh, oh-oh)\n",
      "When the flowers that we'd grown together died of thirst\n",
      "It was months and months of back and forth (Oh-oh, oh-oh)\n",
      "You're still all over me\n",
      "Like a wine-stained dress I can't wear anymore\n",
      "\n",
      "[Pre-Chorus]\n",
      "Hung my head as I lost the war\n",
      "And the sky turned black like a perfect storm\n"
     ]
    }
   ],
   "source": [
    "print(texts_proc[25])"
   ]
  },
  {
   "cell_type": "code",
   "execution_count": 335,
   "id": "Gr4hG5xoNRYQ",
   "metadata": {
    "colab": {
     "base_uri": "https://localhost:8080/"
    },
    "executionInfo": {
     "elapsed": 464,
     "status": "ok",
     "timestamp": 1691334278572,
     "user": {
      "displayName": "Ilya",
      "userId": "14985529302101757066"
     },
     "user_tz": -180
    },
    "id": "Gr4hG5xoNRYQ",
    "outputId": "796060e7-4d6e-4205-c6a8-422ef134fc7c"
   },
   "outputs": [
    {
     "name": "stdout",
     "output_type": "stream",
     "text": [
      "[Summary]\n",
      "When the flowers that we'd grown together began to dry out\n",
      "And it was years and months of back and forth (Oh-oh, Oh-hhh)\n",
      "a drought that had turned into a total destruction in heaven... The air turned black like a perfect storm\n",
      "At night I looked down at this ice-cold blue\n",
      "But as I watched from faraway. And what he saw was pure bliss: A sea with no sign of God; And\n"
     ]
    }
   ],
   "source": [
    "print(predictions_list_proc[25])"
   ]
  },
  {
   "cell_type": "markdown",
   "id": "7dcc2b26-c75c-4243-bbbc-eae0235c8fe0",
   "metadata": {},
   "source": [
    "# Save results"
   ]
  },
  {
   "cell_type": "code",
   "execution_count": null,
   "id": "EIMBy9dGAafy",
   "metadata": {
    "executionInfo": {
     "elapsed": 12,
     "status": "aborted",
     "timestamp": 1691331108528,
     "user": {
      "displayName": "Ilya",
      "userId": "14985529302101757066"
     },
     "user_tz": -180
    },
    "id": "EIMBy9dGAafy"
   },
   "outputs": [],
   "source": [
    "df = pd.DataFrame({'pred': predictions_list_proc, 'target': targets_proc})"
   ]
  },
  {
   "cell_type": "code",
   "execution_count": 333,
   "id": "iqwnjP-dA4Ko",
   "metadata": {
    "executionInfo": {
     "elapsed": 693,
     "status": "ok",
     "timestamp": 1691334229987,
     "user": {
      "displayName": "Ilya",
      "userId": "14985529302101757066"
     },
     "user_tz": -180
    },
    "id": "iqwnjP-dA4Ko"
   },
   "outputs": [],
   "source": [
    "# Create a list of dictionaries\n",
    "data = []\n",
    "for text, target, prediction in zip(texts_proc, targets_proc, predictions_list_proc):\n",
    "    data.append({\n",
    "        'text': text,\n",
    "        'target': target,\n",
    "        'prediction': prediction\n",
    "    })\n",
    "\n",
    "# Save to JSON\n",
    "with open('output_dataset_2.json', 'w', encoding='utf-8') as f:\n",
    "    json.dump(data, f, ensure_ascii=False, indent=4)"
   ]
  }
 ],
 "metadata": {
  "accelerator": "GPU",
  "colab": {
   "gpuType": "A100",
   "machine_shape": "hm",
   "provenance": []
  },
  "kernelspec": {
   "display_name": "Python 3 (ipykernel)",
   "language": "python",
   "name": "python3"
  },
  "language_info": {
   "codemirror_mode": {
    "name": "ipython",
    "version": 3
   },
   "file_extension": ".py",
   "mimetype": "text/x-python",
   "name": "python",
   "nbconvert_exporter": "python",
   "pygments_lexer": "ipython3",
   "version": "3.7.13"
  },
  "widgets": {
   "application/vnd.jupyter.widget-state+json": {
    "05f81bcd9a68464eb585a49f4a22a38c": {
     "model_module": "@jupyter-widgets/controls",
     "model_module_version": "1.5.0",
     "model_name": "FloatProgressModel",
     "state": {
      "_dom_classes": [],
      "_model_module": "@jupyter-widgets/controls",
      "_model_module_version": "1.5.0",
      "_model_name": "FloatProgressModel",
      "_view_count": null,
      "_view_module": "@jupyter-widgets/controls",
      "_view_module_version": "1.5.0",
      "_view_name": "ProgressView",
      "bar_style": "success",
      "description": "",
      "description_tooltip": null,
      "layout": "IPY_MODEL_77784853e4c048018b8b82ac44870d3d",
      "max": 77,
      "min": 0,
      "orientation": "horizontal",
      "style": "IPY_MODEL_d634e6d077374ddda684c55893353a2e",
      "value": 77
     }
    },
    "07b3f4429b6f4d4395e91d4480e9494b": {
     "model_module": "@jupyter-widgets/controls",
     "model_module_version": "1.5.0",
     "model_name": "HTMLModel",
     "state": {
      "_dom_classes": [],
      "_model_module": "@jupyter-widgets/controls",
      "_model_module_version": "1.5.0",
      "_model_name": "HTMLModel",
      "_view_count": null,
      "_view_module": "@jupyter-widgets/controls",
      "_view_module_version": "1.5.0",
      "_view_name": "HTMLView",
      "description": "",
      "description_tooltip": null,
      "layout": "IPY_MODEL_e5ed85e91280407480e93703d60193d8",
      "placeholder": "​",
      "style": "IPY_MODEL_47542cda56fa418b8269a752c077fc73",
      "value": " 154/154 [00:00&lt;00:00, 388.28 examples/s]"
     }
    },
    "07b5066f4f9447dc989a8dc77f525319": {
     "model_module": "@jupyter-widgets/controls",
     "model_module_version": "1.5.0",
     "model_name": "ProgressStyleModel",
     "state": {
      "_model_module": "@jupyter-widgets/controls",
      "_model_module_version": "1.5.0",
      "_model_name": "ProgressStyleModel",
      "_view_count": null,
      "_view_module": "@jupyter-widgets/base",
      "_view_module_version": "1.2.0",
      "_view_name": "StyleView",
      "bar_color": null,
      "description_width": ""
     }
    },
    "0d3b05f4d2ac4c2197a2e1ef0e47f0d0": {
     "model_module": "@jupyter-widgets/controls",
     "model_module_version": "1.5.0",
     "model_name": "HBoxModel",
     "state": {
      "_dom_classes": [],
      "_model_module": "@jupyter-widgets/controls",
      "_model_module_version": "1.5.0",
      "_model_name": "HBoxModel",
      "_view_count": null,
      "_view_module": "@jupyter-widgets/controls",
      "_view_module_version": "1.5.0",
      "_view_name": "HBoxView",
      "box_style": "",
      "children": [
       "IPY_MODEL_32b86f23c8914200ad88cf049ddf5afc",
       "IPY_MODEL_fe8349fd82aa442889c8d121f33719e4",
       "IPY_MODEL_fc550e86486b4fb6aaa5471e59bfd777"
      ],
      "layout": "IPY_MODEL_eb8cebda3441486ebab567b20e52d82a"
     }
    },
    "0d65030c84ec4dfd870563b4623eac45": {
     "model_module": "@jupyter-widgets/base",
     "model_module_version": "1.2.0",
     "model_name": "LayoutModel",
     "state": {
      "_model_module": "@jupyter-widgets/base",
      "_model_module_version": "1.2.0",
      "_model_name": "LayoutModel",
      "_view_count": null,
      "_view_module": "@jupyter-widgets/base",
      "_view_module_version": "1.2.0",
      "_view_name": "LayoutView",
      "align_content": null,
      "align_items": null,
      "align_self": null,
      "border": null,
      "bottom": null,
      "display": null,
      "flex": null,
      "flex_flow": null,
      "grid_area": null,
      "grid_auto_columns": null,
      "grid_auto_flow": null,
      "grid_auto_rows": null,
      "grid_column": null,
      "grid_gap": null,
      "grid_row": null,
      "grid_template_areas": null,
      "grid_template_columns": null,
      "grid_template_rows": null,
      "height": null,
      "justify_content": null,
      "justify_items": null,
      "left": null,
      "margin": null,
      "max_height": null,
      "max_width": null,
      "min_height": null,
      "min_width": null,
      "object_fit": null,
      "object_position": null,
      "order": null,
      "overflow": null,
      "overflow_x": null,
      "overflow_y": null,
      "padding": null,
      "right": null,
      "top": null,
      "visibility": null,
      "width": null
     }
    },
    "1237b9e1a0c147c990ec6d59eb812a04": {
     "model_module": "@jupyter-widgets/controls",
     "model_module_version": "1.5.0",
     "model_name": "HTMLModel",
     "state": {
      "_dom_classes": [],
      "_model_module": "@jupyter-widgets/controls",
      "_model_module_version": "1.5.0",
      "_model_name": "HTMLModel",
      "_view_count": null,
      "_view_module": "@jupyter-widgets/controls",
      "_view_module_version": "1.5.0",
      "_view_name": "HTMLView",
      "description": "",
      "description_tooltip": null,
      "layout": "IPY_MODEL_2d92d473879d4fcf9f4a4dee4c0b54eb",
      "placeholder": "​",
      "style": "IPY_MODEL_b0173c317c2a4bb9939aa4d7905a316c",
      "value": "100%"
     }
    },
    "174b2f47f9eb408b9ad82b2fc4b9d40c": {
     "model_module": "@jupyter-widgets/controls",
     "model_module_version": "1.5.0",
     "model_name": "HTMLModel",
     "state": {
      "_dom_classes": [],
      "_model_module": "@jupyter-widgets/controls",
      "_model_module_version": "1.5.0",
      "_model_name": "HTMLModel",
      "_view_count": null,
      "_view_module": "@jupyter-widgets/controls",
      "_view_module_version": "1.5.0",
      "_view_name": "HTMLView",
      "description": "",
      "description_tooltip": null,
      "layout": "IPY_MODEL_99609edff700405c9d31fee7f497366b",
      "placeholder": "​",
      "style": "IPY_MODEL_cefd9dc415b741ce957ad9aa1fa254f3",
      "value": "100%"
     }
    },
    "179e11a7e2214d8daeb76c26c868f701": {
     "model_module": "@jupyter-widgets/controls",
     "model_module_version": "1.5.0",
     "model_name": "HTMLModel",
     "state": {
      "_dom_classes": [],
      "_model_module": "@jupyter-widgets/controls",
      "_model_module_version": "1.5.0",
      "_model_name": "HTMLModel",
      "_view_count": null,
      "_view_module": "@jupyter-widgets/controls",
      "_view_module_version": "1.5.0",
      "_view_name": "HTMLView",
      "description": "",
      "description_tooltip": null,
      "layout": "IPY_MODEL_7069acddd3f548138d7574291ad49fdb",
      "placeholder": "​",
      "style": "IPY_MODEL_445eec93c7f84509b3b4a11ebcb5e884",
      "value": "100%"
     }
    },
    "1aea80a661bd42748bccdeaffffa2e1c": {
     "model_module": "@jupyter-widgets/base",
     "model_module_version": "1.2.0",
     "model_name": "LayoutModel",
     "state": {
      "_model_module": "@jupyter-widgets/base",
      "_model_module_version": "1.2.0",
      "_model_name": "LayoutModel",
      "_view_count": null,
      "_view_module": "@jupyter-widgets/base",
      "_view_module_version": "1.2.0",
      "_view_name": "LayoutView",
      "align_content": null,
      "align_items": null,
      "align_self": null,
      "border": null,
      "bottom": null,
      "display": null,
      "flex": null,
      "flex_flow": null,
      "grid_area": null,
      "grid_auto_columns": null,
      "grid_auto_flow": null,
      "grid_auto_rows": null,
      "grid_column": null,
      "grid_gap": null,
      "grid_row": null,
      "grid_template_areas": null,
      "grid_template_columns": null,
      "grid_template_rows": null,
      "height": null,
      "justify_content": null,
      "justify_items": null,
      "left": null,
      "margin": null,
      "max_height": null,
      "max_width": null,
      "min_height": null,
      "min_width": null,
      "object_fit": null,
      "object_position": null,
      "order": null,
      "overflow": null,
      "overflow_x": null,
      "overflow_y": null,
      "padding": null,
      "right": null,
      "top": null,
      "visibility": null,
      "width": null
     }
    },
    "1b258852665a42dc9f2ceb2d167fd5b4": {
     "model_module": "@jupyter-widgets/controls",
     "model_module_version": "1.5.0",
     "model_name": "ProgressStyleModel",
     "state": {
      "_model_module": "@jupyter-widgets/controls",
      "_model_module_version": "1.5.0",
      "_model_name": "ProgressStyleModel",
      "_view_count": null,
      "_view_module": "@jupyter-widgets/base",
      "_view_module_version": "1.2.0",
      "_view_name": "StyleView",
      "bar_color": null,
      "description_width": ""
     }
    },
    "1b258d15f7fb441ea68e1c3f54869e6f": {
     "model_module": "@jupyter-widgets/controls",
     "model_module_version": "1.5.0",
     "model_name": "ProgressStyleModel",
     "state": {
      "_model_module": "@jupyter-widgets/controls",
      "_model_module_version": "1.5.0",
      "_model_name": "ProgressStyleModel",
      "_view_count": null,
      "_view_module": "@jupyter-widgets/base",
      "_view_module_version": "1.2.0",
      "_view_name": "StyleView",
      "bar_color": null,
      "description_width": ""
     }
    },
    "1cc2184ac6e54cfe9bd28eb7c41ce3c5": {
     "model_module": "@jupyter-widgets/controls",
     "model_module_version": "1.5.0",
     "model_name": "HTMLModel",
     "state": {
      "_dom_classes": [],
      "_model_module": "@jupyter-widgets/controls",
      "_model_module_version": "1.5.0",
      "_model_name": "HTMLModel",
      "_view_count": null,
      "_view_module": "@jupyter-widgets/controls",
      "_view_module_version": "1.5.0",
      "_view_name": "HTMLView",
      "description": "",
      "description_tooltip": null,
      "layout": "IPY_MODEL_7d1373f9e65445ba9498722238bb0f09",
      "placeholder": "​",
      "style": "IPY_MODEL_60f360c0e846405ea100e2cfeb84f564",
      "value": " 20/20 [00:56&lt;00:00,  2.61s/it]"
     }
    },
    "1de476859e2247958af744d7fb46bad7": {
     "model_module": "@jupyter-widgets/controls",
     "model_module_version": "1.5.0",
     "model_name": "HBoxModel",
     "state": {
      "_dom_classes": [],
      "_model_module": "@jupyter-widgets/controls",
      "_model_module_version": "1.5.0",
      "_model_name": "HBoxModel",
      "_view_count": null,
      "_view_module": "@jupyter-widgets/controls",
      "_view_module_version": "1.5.0",
      "_view_name": "HBoxView",
      "box_style": "",
      "children": [
       "IPY_MODEL_174b2f47f9eb408b9ad82b2fc4b9d40c",
       "IPY_MODEL_a583f87a859b45f39cfe5b7d8e17b275",
       "IPY_MODEL_8339adb9b4804a759ed691a5f0200907"
      ],
      "layout": "IPY_MODEL_bc46835bc5d84aff98265c32c5f9a86a"
     }
    },
    "1e3e719e50af45afbbb9d0f177797898": {
     "model_module": "@jupyter-widgets/base",
     "model_module_version": "1.2.0",
     "model_name": "LayoutModel",
     "state": {
      "_model_module": "@jupyter-widgets/base",
      "_model_module_version": "1.2.0",
      "_model_name": "LayoutModel",
      "_view_count": null,
      "_view_module": "@jupyter-widgets/base",
      "_view_module_version": "1.2.0",
      "_view_name": "LayoutView",
      "align_content": null,
      "align_items": null,
      "align_self": null,
      "border": null,
      "bottom": null,
      "display": null,
      "flex": null,
      "flex_flow": null,
      "grid_area": null,
      "grid_auto_columns": null,
      "grid_auto_flow": null,
      "grid_auto_rows": null,
      "grid_column": null,
      "grid_gap": null,
      "grid_row": null,
      "grid_template_areas": null,
      "grid_template_columns": null,
      "grid_template_rows": null,
      "height": null,
      "justify_content": null,
      "justify_items": null,
      "left": null,
      "margin": null,
      "max_height": null,
      "max_width": null,
      "min_height": null,
      "min_width": null,
      "object_fit": null,
      "object_position": null,
      "order": null,
      "overflow": null,
      "overflow_x": null,
      "overflow_y": null,
      "padding": null,
      "right": null,
      "top": null,
      "visibility": null,
      "width": null
     }
    },
    "1f49bb55d0144f0a8c2935553805143e": {
     "model_module": "@jupyter-widgets/base",
     "model_module_version": "1.2.0",
     "model_name": "LayoutModel",
     "state": {
      "_model_module": "@jupyter-widgets/base",
      "_model_module_version": "1.2.0",
      "_model_name": "LayoutModel",
      "_view_count": null,
      "_view_module": "@jupyter-widgets/base",
      "_view_module_version": "1.2.0",
      "_view_name": "LayoutView",
      "align_content": null,
      "align_items": null,
      "align_self": null,
      "border": null,
      "bottom": null,
      "display": null,
      "flex": null,
      "flex_flow": null,
      "grid_area": null,
      "grid_auto_columns": null,
      "grid_auto_flow": null,
      "grid_auto_rows": null,
      "grid_column": null,
      "grid_gap": null,
      "grid_row": null,
      "grid_template_areas": null,
      "grid_template_columns": null,
      "grid_template_rows": null,
      "height": null,
      "justify_content": null,
      "justify_items": null,
      "left": null,
      "margin": null,
      "max_height": null,
      "max_width": null,
      "min_height": null,
      "min_width": null,
      "object_fit": null,
      "object_position": null,
      "order": null,
      "overflow": null,
      "overflow_x": null,
      "overflow_y": null,
      "padding": null,
      "right": null,
      "top": null,
      "visibility": null,
      "width": null
     }
    },
    "209058e2cc244f959459dacaf182e36c": {
     "model_module": "@jupyter-widgets/controls",
     "model_module_version": "1.5.0",
     "model_name": "HTMLModel",
     "state": {
      "_dom_classes": [],
      "_model_module": "@jupyter-widgets/controls",
      "_model_module_version": "1.5.0",
      "_model_name": "HTMLModel",
      "_view_count": null,
      "_view_module": "@jupyter-widgets/controls",
      "_view_module_version": "1.5.0",
      "_view_name": "HTMLView",
      "description": "",
      "description_tooltip": null,
      "layout": "IPY_MODEL_e05bc1ad5e894a1cbea897d9ac29dbe1",
      "placeholder": "​",
      "style": "IPY_MODEL_efbe907908cc48909dba469683522b50",
      "value": "100%"
     }
    },
    "20a91b41f62c498ab64c67a650449a42": {
     "model_module": "@jupyter-widgets/base",
     "model_module_version": "1.2.0",
     "model_name": "LayoutModel",
     "state": {
      "_model_module": "@jupyter-widgets/base",
      "_model_module_version": "1.2.0",
      "_model_name": "LayoutModel",
      "_view_count": null,
      "_view_module": "@jupyter-widgets/base",
      "_view_module_version": "1.2.0",
      "_view_name": "LayoutView",
      "align_content": null,
      "align_items": null,
      "align_self": null,
      "border": null,
      "bottom": null,
      "display": null,
      "flex": null,
      "flex_flow": null,
      "grid_area": null,
      "grid_auto_columns": null,
      "grid_auto_flow": null,
      "grid_auto_rows": null,
      "grid_column": null,
      "grid_gap": null,
      "grid_row": null,
      "grid_template_areas": null,
      "grid_template_columns": null,
      "grid_template_rows": null,
      "height": null,
      "justify_content": null,
      "justify_items": null,
      "left": null,
      "margin": null,
      "max_height": null,
      "max_width": null,
      "min_height": null,
      "min_width": null,
      "object_fit": null,
      "object_position": null,
      "order": null,
      "overflow": null,
      "overflow_x": null,
      "overflow_y": null,
      "padding": null,
      "right": null,
      "top": null,
      "visibility": null,
      "width": null
     }
    },
    "21b04e4840834da39783a44e17a8956b": {
     "model_module": "@jupyter-widgets/controls",
     "model_module_version": "1.5.0",
     "model_name": "DescriptionStyleModel",
     "state": {
      "_model_module": "@jupyter-widgets/controls",
      "_model_module_version": "1.5.0",
      "_model_name": "DescriptionStyleModel",
      "_view_count": null,
      "_view_module": "@jupyter-widgets/base",
      "_view_module_version": "1.2.0",
      "_view_name": "StyleView",
      "description_width": ""
     }
    },
    "238d6fe9f49845e3a294757c62b2677c": {
     "model_module": "@jupyter-widgets/base",
     "model_module_version": "1.2.0",
     "model_name": "LayoutModel",
     "state": {
      "_model_module": "@jupyter-widgets/base",
      "_model_module_version": "1.2.0",
      "_model_name": "LayoutModel",
      "_view_count": null,
      "_view_module": "@jupyter-widgets/base",
      "_view_module_version": "1.2.0",
      "_view_name": "LayoutView",
      "align_content": null,
      "align_items": null,
      "align_self": null,
      "border": null,
      "bottom": null,
      "display": null,
      "flex": null,
      "flex_flow": null,
      "grid_area": null,
      "grid_auto_columns": null,
      "grid_auto_flow": null,
      "grid_auto_rows": null,
      "grid_column": null,
      "grid_gap": null,
      "grid_row": null,
      "grid_template_areas": null,
      "grid_template_columns": null,
      "grid_template_rows": null,
      "height": null,
      "justify_content": null,
      "justify_items": null,
      "left": null,
      "margin": null,
      "max_height": null,
      "max_width": null,
      "min_height": null,
      "min_width": null,
      "object_fit": null,
      "object_position": null,
      "order": null,
      "overflow": null,
      "overflow_x": null,
      "overflow_y": null,
      "padding": null,
      "right": null,
      "top": null,
      "visibility": null,
      "width": null
     }
    },
    "278618a1df984adc9b498af89f90efa0": {
     "model_module": "@jupyter-widgets/controls",
     "model_module_version": "1.5.0",
     "model_name": "HTMLModel",
     "state": {
      "_dom_classes": [],
      "_model_module": "@jupyter-widgets/controls",
      "_model_module_version": "1.5.0",
      "_model_name": "HTMLModel",
      "_view_count": null,
      "_view_module": "@jupyter-widgets/controls",
      "_view_module_version": "1.5.0",
      "_view_name": "HTMLView",
      "description": "",
      "description_tooltip": null,
      "layout": "IPY_MODEL_f5713c0502074c168b817ab9f0c13aaf",
      "placeholder": "​",
      "style": "IPY_MODEL_ddae854a704b46fdbecf8881bb7f09e9",
      "value": "Map: 100%"
     }
    },
    "27dd1987234a4d79b5f76cfc788fd811": {
     "model_module": "@jupyter-widgets/base",
     "model_module_version": "1.2.0",
     "model_name": "LayoutModel",
     "state": {
      "_model_module": "@jupyter-widgets/base",
      "_model_module_version": "1.2.0",
      "_model_name": "LayoutModel",
      "_view_count": null,
      "_view_module": "@jupyter-widgets/base",
      "_view_module_version": "1.2.0",
      "_view_name": "LayoutView",
      "align_content": null,
      "align_items": null,
      "align_self": null,
      "border": null,
      "bottom": null,
      "display": null,
      "flex": null,
      "flex_flow": null,
      "grid_area": null,
      "grid_auto_columns": null,
      "grid_auto_flow": null,
      "grid_auto_rows": null,
      "grid_column": null,
      "grid_gap": null,
      "grid_row": null,
      "grid_template_areas": null,
      "grid_template_columns": null,
      "grid_template_rows": null,
      "height": null,
      "justify_content": null,
      "justify_items": null,
      "left": null,
      "margin": null,
      "max_height": null,
      "max_width": null,
      "min_height": null,
      "min_width": null,
      "object_fit": null,
      "object_position": null,
      "order": null,
      "overflow": null,
      "overflow_x": null,
      "overflow_y": null,
      "padding": null,
      "right": null,
      "top": null,
      "visibility": null,
      "width": null
     }
    },
    "2a2fbd81cd7c465b931ad8d1da1e0648": {
     "model_module": "@jupyter-widgets/base",
     "model_module_version": "1.2.0",
     "model_name": "LayoutModel",
     "state": {
      "_model_module": "@jupyter-widgets/base",
      "_model_module_version": "1.2.0",
      "_model_name": "LayoutModel",
      "_view_count": null,
      "_view_module": "@jupyter-widgets/base",
      "_view_module_version": "1.2.0",
      "_view_name": "LayoutView",
      "align_content": null,
      "align_items": null,
      "align_self": null,
      "border": null,
      "bottom": null,
      "display": null,
      "flex": null,
      "flex_flow": null,
      "grid_area": null,
      "grid_auto_columns": null,
      "grid_auto_flow": null,
      "grid_auto_rows": null,
      "grid_column": null,
      "grid_gap": null,
      "grid_row": null,
      "grid_template_areas": null,
      "grid_template_columns": null,
      "grid_template_rows": null,
      "height": null,
      "justify_content": null,
      "justify_items": null,
      "left": null,
      "margin": null,
      "max_height": null,
      "max_width": null,
      "min_height": null,
      "min_width": null,
      "object_fit": null,
      "object_position": null,
      "order": null,
      "overflow": null,
      "overflow_x": null,
      "overflow_y": null,
      "padding": null,
      "right": null,
      "top": null,
      "visibility": null,
      "width": null
     }
    },
    "2c8ef11641e14fd5a19d86be036c3a0c": {
     "model_module": "@jupyter-widgets/base",
     "model_module_version": "1.2.0",
     "model_name": "LayoutModel",
     "state": {
      "_model_module": "@jupyter-widgets/base",
      "_model_module_version": "1.2.0",
      "_model_name": "LayoutModel",
      "_view_count": null,
      "_view_module": "@jupyter-widgets/base",
      "_view_module_version": "1.2.0",
      "_view_name": "LayoutView",
      "align_content": null,
      "align_items": null,
      "align_self": null,
      "border": null,
      "bottom": null,
      "display": null,
      "flex": null,
      "flex_flow": null,
      "grid_area": null,
      "grid_auto_columns": null,
      "grid_auto_flow": null,
      "grid_auto_rows": null,
      "grid_column": null,
      "grid_gap": null,
      "grid_row": null,
      "grid_template_areas": null,
      "grid_template_columns": null,
      "grid_template_rows": null,
      "height": null,
      "justify_content": null,
      "justify_items": null,
      "left": null,
      "margin": null,
      "max_height": null,
      "max_width": null,
      "min_height": null,
      "min_width": null,
      "object_fit": null,
      "object_position": null,
      "order": null,
      "overflow": null,
      "overflow_x": null,
      "overflow_y": null,
      "padding": null,
      "right": null,
      "top": null,
      "visibility": null,
      "width": null
     }
    },
    "2d92d473879d4fcf9f4a4dee4c0b54eb": {
     "model_module": "@jupyter-widgets/base",
     "model_module_version": "1.2.0",
     "model_name": "LayoutModel",
     "state": {
      "_model_module": "@jupyter-widgets/base",
      "_model_module_version": "1.2.0",
      "_model_name": "LayoutModel",
      "_view_count": null,
      "_view_module": "@jupyter-widgets/base",
      "_view_module_version": "1.2.0",
      "_view_name": "LayoutView",
      "align_content": null,
      "align_items": null,
      "align_self": null,
      "border": null,
      "bottom": null,
      "display": null,
      "flex": null,
      "flex_flow": null,
      "grid_area": null,
      "grid_auto_columns": null,
      "grid_auto_flow": null,
      "grid_auto_rows": null,
      "grid_column": null,
      "grid_gap": null,
      "grid_row": null,
      "grid_template_areas": null,
      "grid_template_columns": null,
      "grid_template_rows": null,
      "height": null,
      "justify_content": null,
      "justify_items": null,
      "left": null,
      "margin": null,
      "max_height": null,
      "max_width": null,
      "min_height": null,
      "min_width": null,
      "object_fit": null,
      "object_position": null,
      "order": null,
      "overflow": null,
      "overflow_x": null,
      "overflow_y": null,
      "padding": null,
      "right": null,
      "top": null,
      "visibility": null,
      "width": null
     }
    },
    "2eee612c057844e6a9665d35c8eff40d": {
     "model_module": "@jupyter-widgets/controls",
     "model_module_version": "1.5.0",
     "model_name": "HTMLModel",
     "state": {
      "_dom_classes": [],
      "_model_module": "@jupyter-widgets/controls",
      "_model_module_version": "1.5.0",
      "_model_name": "HTMLModel",
      "_view_count": null,
      "_view_module": "@jupyter-widgets/controls",
      "_view_module_version": "1.5.0",
      "_view_name": "HTMLView",
      "description": "",
      "description_tooltip": null,
      "layout": "IPY_MODEL_517b13e47418408a8cee0170e51a65c7",
      "placeholder": "​",
      "style": "IPY_MODEL_b86382b3b7a94c32869fa040b62e5f71",
      "value": "100%"
     }
    },
    "307ddfe4c9f849fdb3783f820669d5aa": {
     "model_module": "@jupyter-widgets/controls",
     "model_module_version": "1.5.0",
     "model_name": "HBoxModel",
     "state": {
      "_dom_classes": [],
      "_model_module": "@jupyter-widgets/controls",
      "_model_module_version": "1.5.0",
      "_model_name": "HBoxModel",
      "_view_count": null,
      "_view_module": "@jupyter-widgets/controls",
      "_view_module_version": "1.5.0",
      "_view_name": "HBoxView",
      "box_style": "",
      "children": [
       "IPY_MODEL_f58503d29df545a89afc1e28441026df",
       "IPY_MODEL_eafe4152ff8248939921ce9dd3005564",
       "IPY_MODEL_3e667b9b749d41119732833a7cc02b3d"
      ],
      "layout": "IPY_MODEL_6b65e4c7026e439282081004e87e1d91"
     }
    },
    "32b86f23c8914200ad88cf049ddf5afc": {
     "model_module": "@jupyter-widgets/controls",
     "model_module_version": "1.5.0",
     "model_name": "HTMLModel",
     "state": {
      "_dom_classes": [],
      "_model_module": "@jupyter-widgets/controls",
      "_model_module_version": "1.5.0",
      "_model_name": "HTMLModel",
      "_view_count": null,
      "_view_module": "@jupyter-widgets/controls",
      "_view_module_version": "1.5.0",
      "_view_name": "HTMLView",
      "description": "",
      "description_tooltip": null,
      "layout": "IPY_MODEL_238d6fe9f49845e3a294757c62b2677c",
      "placeholder": "​",
      "style": "IPY_MODEL_bbab583d0e6e40b3bb9bb9c072ff5538",
      "value": "100%"
     }
    },
    "339cb373c20e449aa677defbbbf7a124": {
     "model_module": "@jupyter-widgets/controls",
     "model_module_version": "1.5.0",
     "model_name": "HTMLModel",
     "state": {
      "_dom_classes": [],
      "_model_module": "@jupyter-widgets/controls",
      "_model_module_version": "1.5.0",
      "_model_name": "HTMLModel",
      "_view_count": null,
      "_view_module": "@jupyter-widgets/controls",
      "_view_module_version": "1.5.0",
      "_view_name": "HTMLView",
      "description": "",
      "description_tooltip": null,
      "layout": "IPY_MODEL_61a1ba0c02b7453fba0c3809ba713a88",
      "placeholder": "​",
      "style": "IPY_MODEL_cdede5256cd549e1bce2e7cff680c3de",
      "value": "100%"
     }
    },
    "353067680fca4f8f87832e12dbb5f10b": {
     "model_module": "@jupyter-widgets/base",
     "model_module_version": "1.2.0",
     "model_name": "LayoutModel",
     "state": {
      "_model_module": "@jupyter-widgets/base",
      "_model_module_version": "1.2.0",
      "_model_name": "LayoutModel",
      "_view_count": null,
      "_view_module": "@jupyter-widgets/base",
      "_view_module_version": "1.2.0",
      "_view_name": "LayoutView",
      "align_content": null,
      "align_items": null,
      "align_self": null,
      "border": null,
      "bottom": null,
      "display": null,
      "flex": null,
      "flex_flow": null,
      "grid_area": null,
      "grid_auto_columns": null,
      "grid_auto_flow": null,
      "grid_auto_rows": null,
      "grid_column": null,
      "grid_gap": null,
      "grid_row": null,
      "grid_template_areas": null,
      "grid_template_columns": null,
      "grid_template_rows": null,
      "height": null,
      "justify_content": null,
      "justify_items": null,
      "left": null,
      "margin": null,
      "max_height": null,
      "max_width": null,
      "min_height": null,
      "min_width": null,
      "object_fit": null,
      "object_position": null,
      "order": null,
      "overflow": null,
      "overflow_x": null,
      "overflow_y": null,
      "padding": null,
      "right": null,
      "top": null,
      "visibility": null,
      "width": null
     }
    },
    "36118f14fdc34e08b59bf21c048bd465": {
     "model_module": "@jupyter-widgets/base",
     "model_module_version": "1.2.0",
     "model_name": "LayoutModel",
     "state": {
      "_model_module": "@jupyter-widgets/base",
      "_model_module_version": "1.2.0",
      "_model_name": "LayoutModel",
      "_view_count": null,
      "_view_module": "@jupyter-widgets/base",
      "_view_module_version": "1.2.0",
      "_view_name": "LayoutView",
      "align_content": null,
      "align_items": null,
      "align_self": null,
      "border": null,
      "bottom": null,
      "display": null,
      "flex": null,
      "flex_flow": null,
      "grid_area": null,
      "grid_auto_columns": null,
      "grid_auto_flow": null,
      "grid_auto_rows": null,
      "grid_column": null,
      "grid_gap": null,
      "grid_row": null,
      "grid_template_areas": null,
      "grid_template_columns": null,
      "grid_template_rows": null,
      "height": null,
      "justify_content": null,
      "justify_items": null,
      "left": null,
      "margin": null,
      "max_height": null,
      "max_width": null,
      "min_height": null,
      "min_width": null,
      "object_fit": null,
      "object_position": null,
      "order": null,
      "overflow": null,
      "overflow_x": null,
      "overflow_y": null,
      "padding": null,
      "right": null,
      "top": null,
      "visibility": null,
      "width": null
     }
    },
    "39e04d9fbde74cd89767f239d0ed04ed": {
     "model_module": "@jupyter-widgets/base",
     "model_module_version": "1.2.0",
     "model_name": "LayoutModel",
     "state": {
      "_model_module": "@jupyter-widgets/base",
      "_model_module_version": "1.2.0",
      "_model_name": "LayoutModel",
      "_view_count": null,
      "_view_module": "@jupyter-widgets/base",
      "_view_module_version": "1.2.0",
      "_view_name": "LayoutView",
      "align_content": null,
      "align_items": null,
      "align_self": null,
      "border": null,
      "bottom": null,
      "display": null,
      "flex": null,
      "flex_flow": null,
      "grid_area": null,
      "grid_auto_columns": null,
      "grid_auto_flow": null,
      "grid_auto_rows": null,
      "grid_column": null,
      "grid_gap": null,
      "grid_row": null,
      "grid_template_areas": null,
      "grid_template_columns": null,
      "grid_template_rows": null,
      "height": null,
      "justify_content": null,
      "justify_items": null,
      "left": null,
      "margin": null,
      "max_height": null,
      "max_width": null,
      "min_height": null,
      "min_width": null,
      "object_fit": null,
      "object_position": null,
      "order": null,
      "overflow": null,
      "overflow_x": null,
      "overflow_y": null,
      "padding": null,
      "right": null,
      "top": null,
      "visibility": null,
      "width": null
     }
    },
    "3ba6447e0c8240ffb96626b045a09218": {
     "model_module": "@jupyter-widgets/base",
     "model_module_version": "1.2.0",
     "model_name": "LayoutModel",
     "state": {
      "_model_module": "@jupyter-widgets/base",
      "_model_module_version": "1.2.0",
      "_model_name": "LayoutModel",
      "_view_count": null,
      "_view_module": "@jupyter-widgets/base",
      "_view_module_version": "1.2.0",
      "_view_name": "LayoutView",
      "align_content": null,
      "align_items": null,
      "align_self": null,
      "border": null,
      "bottom": null,
      "display": null,
      "flex": null,
      "flex_flow": null,
      "grid_area": null,
      "grid_auto_columns": null,
      "grid_auto_flow": null,
      "grid_auto_rows": null,
      "grid_column": null,
      "grid_gap": null,
      "grid_row": null,
      "grid_template_areas": null,
      "grid_template_columns": null,
      "grid_template_rows": null,
      "height": null,
      "justify_content": null,
      "justify_items": null,
      "left": null,
      "margin": null,
      "max_height": null,
      "max_width": null,
      "min_height": null,
      "min_width": null,
      "object_fit": null,
      "object_position": null,
      "order": null,
      "overflow": null,
      "overflow_x": null,
      "overflow_y": null,
      "padding": null,
      "right": null,
      "top": null,
      "visibility": null,
      "width": null
     }
    },
    "3c4134e155824f91b221aa1bbbb545f3": {
     "model_module": "@jupyter-widgets/base",
     "model_module_version": "1.2.0",
     "model_name": "LayoutModel",
     "state": {
      "_model_module": "@jupyter-widgets/base",
      "_model_module_version": "1.2.0",
      "_model_name": "LayoutModel",
      "_view_count": null,
      "_view_module": "@jupyter-widgets/base",
      "_view_module_version": "1.2.0",
      "_view_name": "LayoutView",
      "align_content": null,
      "align_items": null,
      "align_self": null,
      "border": null,
      "bottom": null,
      "display": null,
      "flex": null,
      "flex_flow": null,
      "grid_area": null,
      "grid_auto_columns": null,
      "grid_auto_flow": null,
      "grid_auto_rows": null,
      "grid_column": null,
      "grid_gap": null,
      "grid_row": null,
      "grid_template_areas": null,
      "grid_template_columns": null,
      "grid_template_rows": null,
      "height": null,
      "justify_content": null,
      "justify_items": null,
      "left": null,
      "margin": null,
      "max_height": null,
      "max_width": null,
      "min_height": null,
      "min_width": null,
      "object_fit": null,
      "object_position": null,
      "order": null,
      "overflow": null,
      "overflow_x": null,
      "overflow_y": null,
      "padding": null,
      "right": null,
      "top": null,
      "visibility": null,
      "width": null
     }
    },
    "3cbf31231b0c4697a0864606c55a962c": {
     "model_module": "@jupyter-widgets/controls",
     "model_module_version": "1.5.0",
     "model_name": "HBoxModel",
     "state": {
      "_dom_classes": [],
      "_model_module": "@jupyter-widgets/controls",
      "_model_module_version": "1.5.0",
      "_model_name": "HBoxModel",
      "_view_count": null,
      "_view_module": "@jupyter-widgets/controls",
      "_view_module_version": "1.5.0",
      "_view_name": "HBoxView",
      "box_style": "",
      "children": [
       "IPY_MODEL_278618a1df984adc9b498af89f90efa0",
       "IPY_MODEL_6f6eaf69542a4ae0b93966bbf18c998e",
       "IPY_MODEL_07b3f4429b6f4d4395e91d4480e9494b"
      ],
      "layout": "IPY_MODEL_ac4a3d6ec19d41f7aa841191b6714771"
     }
    },
    "3e667b9b749d41119732833a7cc02b3d": {
     "model_module": "@jupyter-widgets/controls",
     "model_module_version": "1.5.0",
     "model_name": "HTMLModel",
     "state": {
      "_dom_classes": [],
      "_model_module": "@jupyter-widgets/controls",
      "_model_module_version": "1.5.0",
      "_model_name": "HTMLModel",
      "_view_count": null,
      "_view_module": "@jupyter-widgets/controls",
      "_view_module_version": "1.5.0",
      "_view_name": "HTMLView",
      "description": "",
      "description_tooltip": null,
      "layout": "IPY_MODEL_39e04d9fbde74cd89767f239d0ed04ed",
      "placeholder": "​",
      "style": "IPY_MODEL_d58272e8bc7046079b353b535955766a",
      "value": " 39/39 [00:00&lt;00:00, 323.62 examples/s]"
     }
    },
    "3fd6b36a50fe4a648ee461694619cb56": {
     "model_module": "@jupyter-widgets/base",
     "model_module_version": "1.2.0",
     "model_name": "LayoutModel",
     "state": {
      "_model_module": "@jupyter-widgets/base",
      "_model_module_version": "1.2.0",
      "_model_name": "LayoutModel",
      "_view_count": null,
      "_view_module": "@jupyter-widgets/base",
      "_view_module_version": "1.2.0",
      "_view_name": "LayoutView",
      "align_content": null,
      "align_items": null,
      "align_self": null,
      "border": null,
      "bottom": null,
      "display": null,
      "flex": null,
      "flex_flow": null,
      "grid_area": null,
      "grid_auto_columns": null,
      "grid_auto_flow": null,
      "grid_auto_rows": null,
      "grid_column": null,
      "grid_gap": null,
      "grid_row": null,
      "grid_template_areas": null,
      "grid_template_columns": null,
      "grid_template_rows": null,
      "height": null,
      "justify_content": null,
      "justify_items": null,
      "left": null,
      "margin": null,
      "max_height": null,
      "max_width": null,
      "min_height": null,
      "min_width": null,
      "object_fit": null,
      "object_position": null,
      "order": null,
      "overflow": null,
      "overflow_x": null,
      "overflow_y": null,
      "padding": null,
      "right": null,
      "top": null,
      "visibility": null,
      "width": null
     }
    },
    "42026aca6f204c7da3c4ccd6800ac9f0": {
     "model_module": "@jupyter-widgets/base",
     "model_module_version": "1.2.0",
     "model_name": "LayoutModel",
     "state": {
      "_model_module": "@jupyter-widgets/base",
      "_model_module_version": "1.2.0",
      "_model_name": "LayoutModel",
      "_view_count": null,
      "_view_module": "@jupyter-widgets/base",
      "_view_module_version": "1.2.0",
      "_view_name": "LayoutView",
      "align_content": null,
      "align_items": null,
      "align_self": null,
      "border": null,
      "bottom": null,
      "display": null,
      "flex": null,
      "flex_flow": null,
      "grid_area": null,
      "grid_auto_columns": null,
      "grid_auto_flow": null,
      "grid_auto_rows": null,
      "grid_column": null,
      "grid_gap": null,
      "grid_row": null,
      "grid_template_areas": null,
      "grid_template_columns": null,
      "grid_template_rows": null,
      "height": null,
      "justify_content": null,
      "justify_items": null,
      "left": null,
      "margin": null,
      "max_height": null,
      "max_width": null,
      "min_height": null,
      "min_width": null,
      "object_fit": null,
      "object_position": null,
      "order": null,
      "overflow": null,
      "overflow_x": null,
      "overflow_y": null,
      "padding": null,
      "right": null,
      "top": null,
      "visibility": null,
      "width": null
     }
    },
    "44497fa642b34a91a148d05c927a6da9": {
     "model_module": "@jupyter-widgets/controls",
     "model_module_version": "1.5.0",
     "model_name": "FloatProgressModel",
     "state": {
      "_dom_classes": [],
      "_model_module": "@jupyter-widgets/controls",
      "_model_module_version": "1.5.0",
      "_model_name": "FloatProgressModel",
      "_view_count": null,
      "_view_module": "@jupyter-widgets/controls",
      "_view_module_version": "1.5.0",
      "_view_name": "ProgressView",
      "bar_style": "success",
      "description": "",
      "description_tooltip": null,
      "layout": "IPY_MODEL_2c8ef11641e14fd5a19d86be036c3a0c",
      "max": 20,
      "min": 0,
      "orientation": "horizontal",
      "style": "IPY_MODEL_49843394dde14a918db5f688b353919c",
      "value": 20
     }
    },
    "445eec93c7f84509b3b4a11ebcb5e884": {
     "model_module": "@jupyter-widgets/controls",
     "model_module_version": "1.5.0",
     "model_name": "DescriptionStyleModel",
     "state": {
      "_model_module": "@jupyter-widgets/controls",
      "_model_module_version": "1.5.0",
      "_model_name": "DescriptionStyleModel",
      "_view_count": null,
      "_view_module": "@jupyter-widgets/base",
      "_view_module_version": "1.2.0",
      "_view_name": "StyleView",
      "description_width": ""
     }
    },
    "448f4ef25e2f4895a3c972c829fe29e1": {
     "model_module": "@jupyter-widgets/base",
     "model_module_version": "1.2.0",
     "model_name": "LayoutModel",
     "state": {
      "_model_module": "@jupyter-widgets/base",
      "_model_module_version": "1.2.0",
      "_model_name": "LayoutModel",
      "_view_count": null,
      "_view_module": "@jupyter-widgets/base",
      "_view_module_version": "1.2.0",
      "_view_name": "LayoutView",
      "align_content": null,
      "align_items": null,
      "align_self": null,
      "border": null,
      "bottom": null,
      "display": null,
      "flex": null,
      "flex_flow": null,
      "grid_area": null,
      "grid_auto_columns": null,
      "grid_auto_flow": null,
      "grid_auto_rows": null,
      "grid_column": null,
      "grid_gap": null,
      "grid_row": null,
      "grid_template_areas": null,
      "grid_template_columns": null,
      "grid_template_rows": null,
      "height": null,
      "justify_content": null,
      "justify_items": null,
      "left": null,
      "margin": null,
      "max_height": null,
      "max_width": null,
      "min_height": null,
      "min_width": null,
      "object_fit": null,
      "object_position": null,
      "order": null,
      "overflow": null,
      "overflow_x": null,
      "overflow_y": null,
      "padding": null,
      "right": null,
      "top": null,
      "visibility": null,
      "width": null
     }
    },
    "464234716f3d4046835238c29aa6ef1e": {
     "model_module": "@jupyter-widgets/controls",
     "model_module_version": "1.5.0",
     "model_name": "DescriptionStyleModel",
     "state": {
      "_model_module": "@jupyter-widgets/controls",
      "_model_module_version": "1.5.0",
      "_model_name": "DescriptionStyleModel",
      "_view_count": null,
      "_view_module": "@jupyter-widgets/base",
      "_view_module_version": "1.2.0",
      "_view_name": "StyleView",
      "description_width": ""
     }
    },
    "47274a56645c4f3cb6a3e1c39446dff5": {
     "model_module": "@jupyter-widgets/base",
     "model_module_version": "1.2.0",
     "model_name": "LayoutModel",
     "state": {
      "_model_module": "@jupyter-widgets/base",
      "_model_module_version": "1.2.0",
      "_model_name": "LayoutModel",
      "_view_count": null,
      "_view_module": "@jupyter-widgets/base",
      "_view_module_version": "1.2.0",
      "_view_name": "LayoutView",
      "align_content": null,
      "align_items": null,
      "align_self": null,
      "border": null,
      "bottom": null,
      "display": null,
      "flex": null,
      "flex_flow": null,
      "grid_area": null,
      "grid_auto_columns": null,
      "grid_auto_flow": null,
      "grid_auto_rows": null,
      "grid_column": null,
      "grid_gap": null,
      "grid_row": null,
      "grid_template_areas": null,
      "grid_template_columns": null,
      "grid_template_rows": null,
      "height": null,
      "justify_content": null,
      "justify_items": null,
      "left": null,
      "margin": null,
      "max_height": null,
      "max_width": null,
      "min_height": null,
      "min_width": null,
      "object_fit": null,
      "object_position": null,
      "order": null,
      "overflow": null,
      "overflow_x": null,
      "overflow_y": null,
      "padding": null,
      "right": null,
      "top": null,
      "visibility": null,
      "width": null
     }
    },
    "47542cda56fa418b8269a752c077fc73": {
     "model_module": "@jupyter-widgets/controls",
     "model_module_version": "1.5.0",
     "model_name": "DescriptionStyleModel",
     "state": {
      "_model_module": "@jupyter-widgets/controls",
      "_model_module_version": "1.5.0",
      "_model_name": "DescriptionStyleModel",
      "_view_count": null,
      "_view_module": "@jupyter-widgets/base",
      "_view_module_version": "1.2.0",
      "_view_name": "StyleView",
      "description_width": ""
     }
    },
    "49334d8a8e65476fb652f9ee3bc1879d": {
     "model_module": "@jupyter-widgets/controls",
     "model_module_version": "1.5.0",
     "model_name": "FloatProgressModel",
     "state": {
      "_dom_classes": [],
      "_model_module": "@jupyter-widgets/controls",
      "_model_module_version": "1.5.0",
      "_model_name": "FloatProgressModel",
      "_view_count": null,
      "_view_module": "@jupyter-widgets/controls",
      "_view_module_version": "1.5.0",
      "_view_name": "ProgressView",
      "bar_style": "success",
      "description": "",
      "description_tooltip": null,
      "layout": "IPY_MODEL_77bddf6ae5844c4f88c5f4220b1dc8ae",
      "max": 77,
      "min": 0,
      "orientation": "horizontal",
      "style": "IPY_MODEL_e7f88cc00b6547319226bb90d3e276cb",
      "value": 77
     }
    },
    "49843394dde14a918db5f688b353919c": {
     "model_module": "@jupyter-widgets/controls",
     "model_module_version": "1.5.0",
     "model_name": "ProgressStyleModel",
     "state": {
      "_model_module": "@jupyter-widgets/controls",
      "_model_module_version": "1.5.0",
      "_model_name": "ProgressStyleModel",
      "_view_count": null,
      "_view_module": "@jupyter-widgets/base",
      "_view_module_version": "1.2.0",
      "_view_name": "StyleView",
      "bar_color": null,
      "description_width": ""
     }
    },
    "4ff8f4c37e4a4a41994d5ff9d929b520": {
     "model_module": "@jupyter-widgets/base",
     "model_module_version": "1.2.0",
     "model_name": "LayoutModel",
     "state": {
      "_model_module": "@jupyter-widgets/base",
      "_model_module_version": "1.2.0",
      "_model_name": "LayoutModel",
      "_view_count": null,
      "_view_module": "@jupyter-widgets/base",
      "_view_module_version": "1.2.0",
      "_view_name": "LayoutView",
      "align_content": null,
      "align_items": null,
      "align_self": null,
      "border": null,
      "bottom": null,
      "display": null,
      "flex": null,
      "flex_flow": null,
      "grid_area": null,
      "grid_auto_columns": null,
      "grid_auto_flow": null,
      "grid_auto_rows": null,
      "grid_column": null,
      "grid_gap": null,
      "grid_row": null,
      "grid_template_areas": null,
      "grid_template_columns": null,
      "grid_template_rows": null,
      "height": null,
      "justify_content": null,
      "justify_items": null,
      "left": null,
      "margin": null,
      "max_height": null,
      "max_width": null,
      "min_height": null,
      "min_width": null,
      "object_fit": null,
      "object_position": null,
      "order": null,
      "overflow": null,
      "overflow_x": null,
      "overflow_y": null,
      "padding": null,
      "right": null,
      "top": null,
      "visibility": null,
      "width": null
     }
    },
    "517b13e47418408a8cee0170e51a65c7": {
     "model_module": "@jupyter-widgets/base",
     "model_module_version": "1.2.0",
     "model_name": "LayoutModel",
     "state": {
      "_model_module": "@jupyter-widgets/base",
      "_model_module_version": "1.2.0",
      "_model_name": "LayoutModel",
      "_view_count": null,
      "_view_module": "@jupyter-widgets/base",
      "_view_module_version": "1.2.0",
      "_view_name": "LayoutView",
      "align_content": null,
      "align_items": null,
      "align_self": null,
      "border": null,
      "bottom": null,
      "display": null,
      "flex": null,
      "flex_flow": null,
      "grid_area": null,
      "grid_auto_columns": null,
      "grid_auto_flow": null,
      "grid_auto_rows": null,
      "grid_column": null,
      "grid_gap": null,
      "grid_row": null,
      "grid_template_areas": null,
      "grid_template_columns": null,
      "grid_template_rows": null,
      "height": null,
      "justify_content": null,
      "justify_items": null,
      "left": null,
      "margin": null,
      "max_height": null,
      "max_width": null,
      "min_height": null,
      "min_width": null,
      "object_fit": null,
      "object_position": null,
      "order": null,
      "overflow": null,
      "overflow_x": null,
      "overflow_y": null,
      "padding": null,
      "right": null,
      "top": null,
      "visibility": null,
      "width": null
     }
    },
    "5516cf8aa5dc4186ad37273ada99b2a8": {
     "model_module": "@jupyter-widgets/controls",
     "model_module_version": "1.5.0",
     "model_name": "DescriptionStyleModel",
     "state": {
      "_model_module": "@jupyter-widgets/controls",
      "_model_module_version": "1.5.0",
      "_model_name": "DescriptionStyleModel",
      "_view_count": null,
      "_view_module": "@jupyter-widgets/base",
      "_view_module_version": "1.2.0",
      "_view_name": "StyleView",
      "description_width": ""
     }
    },
    "55f04219c8f4441e93c82f1612370fd9": {
     "model_module": "@jupyter-widgets/base",
     "model_module_version": "1.2.0",
     "model_name": "LayoutModel",
     "state": {
      "_model_module": "@jupyter-widgets/base",
      "_model_module_version": "1.2.0",
      "_model_name": "LayoutModel",
      "_view_count": null,
      "_view_module": "@jupyter-widgets/base",
      "_view_module_version": "1.2.0",
      "_view_name": "LayoutView",
      "align_content": null,
      "align_items": null,
      "align_self": null,
      "border": null,
      "bottom": null,
      "display": null,
      "flex": null,
      "flex_flow": null,
      "grid_area": null,
      "grid_auto_columns": null,
      "grid_auto_flow": null,
      "grid_auto_rows": null,
      "grid_column": null,
      "grid_gap": null,
      "grid_row": null,
      "grid_template_areas": null,
      "grid_template_columns": null,
      "grid_template_rows": null,
      "height": null,
      "justify_content": null,
      "justify_items": null,
      "left": null,
      "margin": null,
      "max_height": null,
      "max_width": null,
      "min_height": null,
      "min_width": null,
      "object_fit": null,
      "object_position": null,
      "order": null,
      "overflow": null,
      "overflow_x": null,
      "overflow_y": null,
      "padding": null,
      "right": null,
      "top": null,
      "visibility": null,
      "width": null
     }
    },
    "57acf53e52b7449fb0e3c95a3d313b15": {
     "model_module": "@jupyter-widgets/base",
     "model_module_version": "1.2.0",
     "model_name": "LayoutModel",
     "state": {
      "_model_module": "@jupyter-widgets/base",
      "_model_module_version": "1.2.0",
      "_model_name": "LayoutModel",
      "_view_count": null,
      "_view_module": "@jupyter-widgets/base",
      "_view_module_version": "1.2.0",
      "_view_name": "LayoutView",
      "align_content": null,
      "align_items": null,
      "align_self": null,
      "border": null,
      "bottom": null,
      "display": null,
      "flex": null,
      "flex_flow": null,
      "grid_area": null,
      "grid_auto_columns": null,
      "grid_auto_flow": null,
      "grid_auto_rows": null,
      "grid_column": null,
      "grid_gap": null,
      "grid_row": null,
      "grid_template_areas": null,
      "grid_template_columns": null,
      "grid_template_rows": null,
      "height": null,
      "justify_content": null,
      "justify_items": null,
      "left": null,
      "margin": null,
      "max_height": null,
      "max_width": null,
      "min_height": null,
      "min_width": null,
      "object_fit": null,
      "object_position": null,
      "order": null,
      "overflow": null,
      "overflow_x": null,
      "overflow_y": null,
      "padding": null,
      "right": null,
      "top": null,
      "visibility": null,
      "width": null
     }
    },
    "5c32d91f691c44f39c43b57aff56db43": {
     "model_module": "@jupyter-widgets/base",
     "model_module_version": "1.2.0",
     "model_name": "LayoutModel",
     "state": {
      "_model_module": "@jupyter-widgets/base",
      "_model_module_version": "1.2.0",
      "_model_name": "LayoutModel",
      "_view_count": null,
      "_view_module": "@jupyter-widgets/base",
      "_view_module_version": "1.2.0",
      "_view_name": "LayoutView",
      "align_content": null,
      "align_items": null,
      "align_self": null,
      "border": null,
      "bottom": null,
      "display": null,
      "flex": null,
      "flex_flow": null,
      "grid_area": null,
      "grid_auto_columns": null,
      "grid_auto_flow": null,
      "grid_auto_rows": null,
      "grid_column": null,
      "grid_gap": null,
      "grid_row": null,
      "grid_template_areas": null,
      "grid_template_columns": null,
      "grid_template_rows": null,
      "height": null,
      "justify_content": null,
      "justify_items": null,
      "left": null,
      "margin": null,
      "max_height": null,
      "max_width": null,
      "min_height": null,
      "min_width": null,
      "object_fit": null,
      "object_position": null,
      "order": null,
      "overflow": null,
      "overflow_x": null,
      "overflow_y": null,
      "padding": null,
      "right": null,
      "top": null,
      "visibility": null,
      "width": null
     }
    },
    "5c9904feed95415091c369e6ed8cff26": {
     "model_module": "@jupyter-widgets/controls",
     "model_module_version": "1.5.0",
     "model_name": "FloatProgressModel",
     "state": {
      "_dom_classes": [],
      "_model_module": "@jupyter-widgets/controls",
      "_model_module_version": "1.5.0",
      "_model_name": "FloatProgressModel",
      "_view_count": null,
      "_view_module": "@jupyter-widgets/controls",
      "_view_module_version": "1.5.0",
      "_view_name": "ProgressView",
      "bar_style": "success",
      "description": "",
      "description_tooltip": null,
      "layout": "IPY_MODEL_3ba6447e0c8240ffb96626b045a09218",
      "max": 77,
      "min": 0,
      "orientation": "horizontal",
      "style": "IPY_MODEL_1b258852665a42dc9f2ceb2d167fd5b4",
      "value": 77
     }
    },
    "5f1ccf1c880448708e78915b36b332ca": {
     "model_module": "@jupyter-widgets/controls",
     "model_module_version": "1.5.0",
     "model_name": "ProgressStyleModel",
     "state": {
      "_model_module": "@jupyter-widgets/controls",
      "_model_module_version": "1.5.0",
      "_model_name": "ProgressStyleModel",
      "_view_count": null,
      "_view_module": "@jupyter-widgets/base",
      "_view_module_version": "1.2.0",
      "_view_name": "StyleView",
      "bar_color": null,
      "description_width": ""
     }
    },
    "60f360c0e846405ea100e2cfeb84f564": {
     "model_module": "@jupyter-widgets/controls",
     "model_module_version": "1.5.0",
     "model_name": "DescriptionStyleModel",
     "state": {
      "_model_module": "@jupyter-widgets/controls",
      "_model_module_version": "1.5.0",
      "_model_name": "DescriptionStyleModel",
      "_view_count": null,
      "_view_module": "@jupyter-widgets/base",
      "_view_module_version": "1.2.0",
      "_view_name": "StyleView",
      "description_width": ""
     }
    },
    "61a1ba0c02b7453fba0c3809ba713a88": {
     "model_module": "@jupyter-widgets/base",
     "model_module_version": "1.2.0",
     "model_name": "LayoutModel",
     "state": {
      "_model_module": "@jupyter-widgets/base",
      "_model_module_version": "1.2.0",
      "_model_name": "LayoutModel",
      "_view_count": null,
      "_view_module": "@jupyter-widgets/base",
      "_view_module_version": "1.2.0",
      "_view_name": "LayoutView",
      "align_content": null,
      "align_items": null,
      "align_self": null,
      "border": null,
      "bottom": null,
      "display": null,
      "flex": null,
      "flex_flow": null,
      "grid_area": null,
      "grid_auto_columns": null,
      "grid_auto_flow": null,
      "grid_auto_rows": null,
      "grid_column": null,
      "grid_gap": null,
      "grid_row": null,
      "grid_template_areas": null,
      "grid_template_columns": null,
      "grid_template_rows": null,
      "height": null,
      "justify_content": null,
      "justify_items": null,
      "left": null,
      "margin": null,
      "max_height": null,
      "max_width": null,
      "min_height": null,
      "min_width": null,
      "object_fit": null,
      "object_position": null,
      "order": null,
      "overflow": null,
      "overflow_x": null,
      "overflow_y": null,
      "padding": null,
      "right": null,
      "top": null,
      "visibility": null,
      "width": null
     }
    },
    "61f2497306b84bfc92a1ad91cf3afff6": {
     "model_module": "@jupyter-widgets/controls",
     "model_module_version": "1.5.0",
     "model_name": "FloatProgressModel",
     "state": {
      "_dom_classes": [],
      "_model_module": "@jupyter-widgets/controls",
      "_model_module_version": "1.5.0",
      "_model_name": "FloatProgressModel",
      "_view_count": null,
      "_view_module": "@jupyter-widgets/controls",
      "_view_module_version": "1.5.0",
      "_view_name": "ProgressView",
      "bar_style": "success",
      "description": "",
      "description_tooltip": null,
      "layout": "IPY_MODEL_6db2fe51c7ed43229efd1e34dcdcc63d",
      "max": 77,
      "min": 0,
      "orientation": "horizontal",
      "style": "IPY_MODEL_88a0f51048fd4e3fbf12f4a2d84e0724",
      "value": 77
     }
    },
    "6232c80e03fa4d0280bec00361d8bb09": {
     "model_module": "@jupyter-widgets/controls",
     "model_module_version": "1.5.0",
     "model_name": "DescriptionStyleModel",
     "state": {
      "_model_module": "@jupyter-widgets/controls",
      "_model_module_version": "1.5.0",
      "_model_name": "DescriptionStyleModel",
      "_view_count": null,
      "_view_module": "@jupyter-widgets/base",
      "_view_module_version": "1.2.0",
      "_view_name": "StyleView",
      "description_width": ""
     }
    },
    "6583ad31383048a88c24cb85ed9ba4d2": {
     "model_module": "@jupyter-widgets/base",
     "model_module_version": "1.2.0",
     "model_name": "LayoutModel",
     "state": {
      "_model_module": "@jupyter-widgets/base",
      "_model_module_version": "1.2.0",
      "_model_name": "LayoutModel",
      "_view_count": null,
      "_view_module": "@jupyter-widgets/base",
      "_view_module_version": "1.2.0",
      "_view_name": "LayoutView",
      "align_content": null,
      "align_items": null,
      "align_self": null,
      "border": null,
      "bottom": null,
      "display": null,
      "flex": null,
      "flex_flow": null,
      "grid_area": null,
      "grid_auto_columns": null,
      "grid_auto_flow": null,
      "grid_auto_rows": null,
      "grid_column": null,
      "grid_gap": null,
      "grid_row": null,
      "grid_template_areas": null,
      "grid_template_columns": null,
      "grid_template_rows": null,
      "height": null,
      "justify_content": null,
      "justify_items": null,
      "left": null,
      "margin": null,
      "max_height": null,
      "max_width": null,
      "min_height": null,
      "min_width": null,
      "object_fit": null,
      "object_position": null,
      "order": null,
      "overflow": null,
      "overflow_x": null,
      "overflow_y": null,
      "padding": null,
      "right": null,
      "top": null,
      "visibility": null,
      "width": null
     }
    },
    "65c1a827bc89480e8059e3c4520403cf": {
     "model_module": "@jupyter-widgets/base",
     "model_module_version": "1.2.0",
     "model_name": "LayoutModel",
     "state": {
      "_model_module": "@jupyter-widgets/base",
      "_model_module_version": "1.2.0",
      "_model_name": "LayoutModel",
      "_view_count": null,
      "_view_module": "@jupyter-widgets/base",
      "_view_module_version": "1.2.0",
      "_view_name": "LayoutView",
      "align_content": null,
      "align_items": null,
      "align_self": null,
      "border": null,
      "bottom": null,
      "display": null,
      "flex": null,
      "flex_flow": null,
      "grid_area": null,
      "grid_auto_columns": null,
      "grid_auto_flow": null,
      "grid_auto_rows": null,
      "grid_column": null,
      "grid_gap": null,
      "grid_row": null,
      "grid_template_areas": null,
      "grid_template_columns": null,
      "grid_template_rows": null,
      "height": null,
      "justify_content": null,
      "justify_items": null,
      "left": null,
      "margin": null,
      "max_height": null,
      "max_width": null,
      "min_height": null,
      "min_width": null,
      "object_fit": null,
      "object_position": null,
      "order": null,
      "overflow": null,
      "overflow_x": null,
      "overflow_y": null,
      "padding": null,
      "right": null,
      "top": null,
      "visibility": null,
      "width": null
     }
    },
    "684064b6409349cf8bb6ff8d4205aa29": {
     "model_module": "@jupyter-widgets/controls",
     "model_module_version": "1.5.0",
     "model_name": "HTMLModel",
     "state": {
      "_dom_classes": [],
      "_model_module": "@jupyter-widgets/controls",
      "_model_module_version": "1.5.0",
      "_model_name": "HTMLModel",
      "_view_count": null,
      "_view_module": "@jupyter-widgets/controls",
      "_view_module_version": "1.5.0",
      "_view_name": "HTMLView",
      "description": "",
      "description_tooltip": null,
      "layout": "IPY_MODEL_fc3305f606a1487a9d4d7020f4ca30ac",
      "placeholder": "​",
      "style": "IPY_MODEL_b4636abe91414841a1eb84182aab6d79",
      "value": " 20/20 [00:56&lt;00:00,  2.64s/it]"
     }
    },
    "6b65e4c7026e439282081004e87e1d91": {
     "model_module": "@jupyter-widgets/base",
     "model_module_version": "1.2.0",
     "model_name": "LayoutModel",
     "state": {
      "_model_module": "@jupyter-widgets/base",
      "_model_module_version": "1.2.0",
      "_model_name": "LayoutModel",
      "_view_count": null,
      "_view_module": "@jupyter-widgets/base",
      "_view_module_version": "1.2.0",
      "_view_name": "LayoutView",
      "align_content": null,
      "align_items": null,
      "align_self": null,
      "border": null,
      "bottom": null,
      "display": null,
      "flex": null,
      "flex_flow": null,
      "grid_area": null,
      "grid_auto_columns": null,
      "grid_auto_flow": null,
      "grid_auto_rows": null,
      "grid_column": null,
      "grid_gap": null,
      "grid_row": null,
      "grid_template_areas": null,
      "grid_template_columns": null,
      "grid_template_rows": null,
      "height": null,
      "justify_content": null,
      "justify_items": null,
      "left": null,
      "margin": null,
      "max_height": null,
      "max_width": null,
      "min_height": null,
      "min_width": null,
      "object_fit": null,
      "object_position": null,
      "order": null,
      "overflow": null,
      "overflow_x": null,
      "overflow_y": null,
      "padding": null,
      "right": null,
      "top": null,
      "visibility": null,
      "width": null
     }
    },
    "6db2fe51c7ed43229efd1e34dcdcc63d": {
     "model_module": "@jupyter-widgets/base",
     "model_module_version": "1.2.0",
     "model_name": "LayoutModel",
     "state": {
      "_model_module": "@jupyter-widgets/base",
      "_model_module_version": "1.2.0",
      "_model_name": "LayoutModel",
      "_view_count": null,
      "_view_module": "@jupyter-widgets/base",
      "_view_module_version": "1.2.0",
      "_view_name": "LayoutView",
      "align_content": null,
      "align_items": null,
      "align_self": null,
      "border": null,
      "bottom": null,
      "display": null,
      "flex": null,
      "flex_flow": null,
      "grid_area": null,
      "grid_auto_columns": null,
      "grid_auto_flow": null,
      "grid_auto_rows": null,
      "grid_column": null,
      "grid_gap": null,
      "grid_row": null,
      "grid_template_areas": null,
      "grid_template_columns": null,
      "grid_template_rows": null,
      "height": null,
      "justify_content": null,
      "justify_items": null,
      "left": null,
      "margin": null,
      "max_height": null,
      "max_width": null,
      "min_height": null,
      "min_width": null,
      "object_fit": null,
      "object_position": null,
      "order": null,
      "overflow": null,
      "overflow_x": null,
      "overflow_y": null,
      "padding": null,
      "right": null,
      "top": null,
      "visibility": null,
      "width": null
     }
    },
    "6f6eaf69542a4ae0b93966bbf18c998e": {
     "model_module": "@jupyter-widgets/controls",
     "model_module_version": "1.5.0",
     "model_name": "FloatProgressModel",
     "state": {
      "_dom_classes": [],
      "_model_module": "@jupyter-widgets/controls",
      "_model_module_version": "1.5.0",
      "_model_name": "FloatProgressModel",
      "_view_count": null,
      "_view_module": "@jupyter-widgets/controls",
      "_view_module_version": "1.5.0",
      "_view_name": "ProgressView",
      "bar_style": "success",
      "description": "",
      "description_tooltip": null,
      "layout": "IPY_MODEL_965079178be6467cb88e815025d66ca0",
      "max": 154,
      "min": 0,
      "orientation": "horizontal",
      "style": "IPY_MODEL_88965f2de820415d889ce53b63187d49",
      "value": 154
     }
    },
    "7069acddd3f548138d7574291ad49fdb": {
     "model_module": "@jupyter-widgets/base",
     "model_module_version": "1.2.0",
     "model_name": "LayoutModel",
     "state": {
      "_model_module": "@jupyter-widgets/base",
      "_model_module_version": "1.2.0",
      "_model_name": "LayoutModel",
      "_view_count": null,
      "_view_module": "@jupyter-widgets/base",
      "_view_module_version": "1.2.0",
      "_view_name": "LayoutView",
      "align_content": null,
      "align_items": null,
      "align_self": null,
      "border": null,
      "bottom": null,
      "display": null,
      "flex": null,
      "flex_flow": null,
      "grid_area": null,
      "grid_auto_columns": null,
      "grid_auto_flow": null,
      "grid_auto_rows": null,
      "grid_column": null,
      "grid_gap": null,
      "grid_row": null,
      "grid_template_areas": null,
      "grid_template_columns": null,
      "grid_template_rows": null,
      "height": null,
      "justify_content": null,
      "justify_items": null,
      "left": null,
      "margin": null,
      "max_height": null,
      "max_width": null,
      "min_height": null,
      "min_width": null,
      "object_fit": null,
      "object_position": null,
      "order": null,
      "overflow": null,
      "overflow_x": null,
      "overflow_y": null,
      "padding": null,
      "right": null,
      "top": null,
      "visibility": null,
      "width": null
     }
    },
    "710bb8e0109e44a8bddef08970804680": {
     "model_module": "@jupyter-widgets/controls",
     "model_module_version": "1.5.0",
     "model_name": "FloatProgressModel",
     "state": {
      "_dom_classes": [],
      "_model_module": "@jupyter-widgets/controls",
      "_model_module_version": "1.5.0",
      "_model_name": "FloatProgressModel",
      "_view_count": null,
      "_view_module": "@jupyter-widgets/controls",
      "_view_module_version": "1.5.0",
      "_view_name": "ProgressView",
      "bar_style": "success",
      "description": "",
      "description_tooltip": null,
      "layout": "IPY_MODEL_3fd6b36a50fe4a648ee461694619cb56",
      "max": 77,
      "min": 0,
      "orientation": "horizontal",
      "style": "IPY_MODEL_955507a9eb864b16bb55c9e709bc191d",
      "value": 77
     }
    },
    "745d1ee5eed4447aa126f518b450b116": {
     "model_module": "@jupyter-widgets/controls",
     "model_module_version": "1.5.0",
     "model_name": "HBoxModel",
     "state": {
      "_dom_classes": [],
      "_model_module": "@jupyter-widgets/controls",
      "_model_module_version": "1.5.0",
      "_model_name": "HBoxModel",
      "_view_count": null,
      "_view_module": "@jupyter-widgets/controls",
      "_view_module_version": "1.5.0",
      "_view_name": "HBoxView",
      "box_style": "",
      "children": [
       "IPY_MODEL_209058e2cc244f959459dacaf182e36c",
       "IPY_MODEL_920c14079f644c80bee0fec7980f8bc8",
       "IPY_MODEL_ebdb700f2a9546f8869cb0c9be9b63c8"
      ],
      "layout": "IPY_MODEL_6583ad31383048a88c24cb85ed9ba4d2"
     }
    },
    "77784853e4c048018b8b82ac44870d3d": {
     "model_module": "@jupyter-widgets/base",
     "model_module_version": "1.2.0",
     "model_name": "LayoutModel",
     "state": {
      "_model_module": "@jupyter-widgets/base",
      "_model_module_version": "1.2.0",
      "_model_name": "LayoutModel",
      "_view_count": null,
      "_view_module": "@jupyter-widgets/base",
      "_view_module_version": "1.2.0",
      "_view_name": "LayoutView",
      "align_content": null,
      "align_items": null,
      "align_self": null,
      "border": null,
      "bottom": null,
      "display": null,
      "flex": null,
      "flex_flow": null,
      "grid_area": null,
      "grid_auto_columns": null,
      "grid_auto_flow": null,
      "grid_auto_rows": null,
      "grid_column": null,
      "grid_gap": null,
      "grid_row": null,
      "grid_template_areas": null,
      "grid_template_columns": null,
      "grid_template_rows": null,
      "height": null,
      "justify_content": null,
      "justify_items": null,
      "left": null,
      "margin": null,
      "max_height": null,
      "max_width": null,
      "min_height": null,
      "min_width": null,
      "object_fit": null,
      "object_position": null,
      "order": null,
      "overflow": null,
      "overflow_x": null,
      "overflow_y": null,
      "padding": null,
      "right": null,
      "top": null,
      "visibility": null,
      "width": null
     }
    },
    "77bddf6ae5844c4f88c5f4220b1dc8ae": {
     "model_module": "@jupyter-widgets/base",
     "model_module_version": "1.2.0",
     "model_name": "LayoutModel",
     "state": {
      "_model_module": "@jupyter-widgets/base",
      "_model_module_version": "1.2.0",
      "_model_name": "LayoutModel",
      "_view_count": null,
      "_view_module": "@jupyter-widgets/base",
      "_view_module_version": "1.2.0",
      "_view_name": "LayoutView",
      "align_content": null,
      "align_items": null,
      "align_self": null,
      "border": null,
      "bottom": null,
      "display": null,
      "flex": null,
      "flex_flow": null,
      "grid_area": null,
      "grid_auto_columns": null,
      "grid_auto_flow": null,
      "grid_auto_rows": null,
      "grid_column": null,
      "grid_gap": null,
      "grid_row": null,
      "grid_template_areas": null,
      "grid_template_columns": null,
      "grid_template_rows": null,
      "height": null,
      "justify_content": null,
      "justify_items": null,
      "left": null,
      "margin": null,
      "max_height": null,
      "max_width": null,
      "min_height": null,
      "min_width": null,
      "object_fit": null,
      "object_position": null,
      "order": null,
      "overflow": null,
      "overflow_x": null,
      "overflow_y": null,
      "padding": null,
      "right": null,
      "top": null,
      "visibility": null,
      "width": null
     }
    },
    "7acd163acefe479a97bbec346f2cac5d": {
     "model_module": "@jupyter-widgets/controls",
     "model_module_version": "1.5.0",
     "model_name": "HTMLModel",
     "state": {
      "_dom_classes": [],
      "_model_module": "@jupyter-widgets/controls",
      "_model_module_version": "1.5.0",
      "_model_name": "HTMLModel",
      "_view_count": null,
      "_view_module": "@jupyter-widgets/controls",
      "_view_module_version": "1.5.0",
      "_view_name": "HTMLView",
      "description": "",
      "description_tooltip": null,
      "layout": "IPY_MODEL_1e3e719e50af45afbbb9d0f177797898",
      "placeholder": "​",
      "style": "IPY_MODEL_c126f6939f364c0c88d1fbe62c427cdd",
      "value": " 77/77 [00:12&lt;00:00,  6.82it/s]"
     }
    },
    "7d1373f9e65445ba9498722238bb0f09": {
     "model_module": "@jupyter-widgets/base",
     "model_module_version": "1.2.0",
     "model_name": "LayoutModel",
     "state": {
      "_model_module": "@jupyter-widgets/base",
      "_model_module_version": "1.2.0",
      "_model_name": "LayoutModel",
      "_view_count": null,
      "_view_module": "@jupyter-widgets/base",
      "_view_module_version": "1.2.0",
      "_view_name": "LayoutView",
      "align_content": null,
      "align_items": null,
      "align_self": null,
      "border": null,
      "bottom": null,
      "display": null,
      "flex": null,
      "flex_flow": null,
      "grid_area": null,
      "grid_auto_columns": null,
      "grid_auto_flow": null,
      "grid_auto_rows": null,
      "grid_column": null,
      "grid_gap": null,
      "grid_row": null,
      "grid_template_areas": null,
      "grid_template_columns": null,
      "grid_template_rows": null,
      "height": null,
      "justify_content": null,
      "justify_items": null,
      "left": null,
      "margin": null,
      "max_height": null,
      "max_width": null,
      "min_height": null,
      "min_width": null,
      "object_fit": null,
      "object_position": null,
      "order": null,
      "overflow": null,
      "overflow_x": null,
      "overflow_y": null,
      "padding": null,
      "right": null,
      "top": null,
      "visibility": null,
      "width": null
     }
    },
    "7d27124bbb8a4c55a5dffff6f4edd9a6": {
     "model_module": "@jupyter-widgets/base",
     "model_module_version": "1.2.0",
     "model_name": "LayoutModel",
     "state": {
      "_model_module": "@jupyter-widgets/base",
      "_model_module_version": "1.2.0",
      "_model_name": "LayoutModel",
      "_view_count": null,
      "_view_module": "@jupyter-widgets/base",
      "_view_module_version": "1.2.0",
      "_view_name": "LayoutView",
      "align_content": null,
      "align_items": null,
      "align_self": null,
      "border": null,
      "bottom": null,
      "display": null,
      "flex": null,
      "flex_flow": null,
      "grid_area": null,
      "grid_auto_columns": null,
      "grid_auto_flow": null,
      "grid_auto_rows": null,
      "grid_column": null,
      "grid_gap": null,
      "grid_row": null,
      "grid_template_areas": null,
      "grid_template_columns": null,
      "grid_template_rows": null,
      "height": null,
      "justify_content": null,
      "justify_items": null,
      "left": null,
      "margin": null,
      "max_height": null,
      "max_width": null,
      "min_height": null,
      "min_width": null,
      "object_fit": null,
      "object_position": null,
      "order": null,
      "overflow": null,
      "overflow_x": null,
      "overflow_y": null,
      "padding": null,
      "right": null,
      "top": null,
      "visibility": null,
      "width": null
     }
    },
    "7e2b727b430d4536a48c87de1329c572": {
     "model_module": "@jupyter-widgets/controls",
     "model_module_version": "1.5.0",
     "model_name": "HTMLModel",
     "state": {
      "_dom_classes": [],
      "_model_module": "@jupyter-widgets/controls",
      "_model_module_version": "1.5.0",
      "_model_name": "HTMLModel",
      "_view_count": null,
      "_view_module": "@jupyter-widgets/controls",
      "_view_module_version": "1.5.0",
      "_view_name": "HTMLView",
      "description": "",
      "description_tooltip": null,
      "layout": "IPY_MODEL_20a91b41f62c498ab64c67a650449a42",
      "placeholder": "​",
      "style": "IPY_MODEL_21b04e4840834da39783a44e17a8956b",
      "value": "100%"
     }
    },
    "7fd445ca4f1247ed9c3babd10a607018": {
     "model_module": "@jupyter-widgets/controls",
     "model_module_version": "1.5.0",
     "model_name": "DescriptionStyleModel",
     "state": {
      "_model_module": "@jupyter-widgets/controls",
      "_model_module_version": "1.5.0",
      "_model_name": "DescriptionStyleModel",
      "_view_count": null,
      "_view_module": "@jupyter-widgets/base",
      "_view_module_version": "1.2.0",
      "_view_name": "StyleView",
      "description_width": ""
     }
    },
    "8339adb9b4804a759ed691a5f0200907": {
     "model_module": "@jupyter-widgets/controls",
     "model_module_version": "1.5.0",
     "model_name": "HTMLModel",
     "state": {
      "_dom_classes": [],
      "_model_module": "@jupyter-widgets/controls",
      "_model_module_version": "1.5.0",
      "_model_name": "HTMLModel",
      "_view_count": null,
      "_view_module": "@jupyter-widgets/controls",
      "_view_module_version": "1.5.0",
      "_view_name": "HTMLView",
      "description": "",
      "description_tooltip": null,
      "layout": "IPY_MODEL_27dd1987234a4d79b5f76cfc788fd811",
      "placeholder": "​",
      "style": "IPY_MODEL_464234716f3d4046835238c29aa6ef1e",
      "value": " 20/20 [00:56&lt;00:00,  2.63s/it]"
     }
    },
    "864e98272db44bf4a4bf819664d72984": {
     "model_module": "@jupyter-widgets/controls",
     "model_module_version": "1.5.0",
     "model_name": "DescriptionStyleModel",
     "state": {
      "_model_module": "@jupyter-widgets/controls",
      "_model_module_version": "1.5.0",
      "_model_name": "DescriptionStyleModel",
      "_view_count": null,
      "_view_module": "@jupyter-widgets/base",
      "_view_module_version": "1.2.0",
      "_view_name": "StyleView",
      "description_width": ""
     }
    },
    "876972be869f4dafb7a0de4bf36920e8": {
     "model_module": "@jupyter-widgets/controls",
     "model_module_version": "1.5.0",
     "model_name": "DescriptionStyleModel",
     "state": {
      "_model_module": "@jupyter-widgets/controls",
      "_model_module_version": "1.5.0",
      "_model_name": "DescriptionStyleModel",
      "_view_count": null,
      "_view_module": "@jupyter-widgets/base",
      "_view_module_version": "1.2.0",
      "_view_name": "StyleView",
      "description_width": ""
     }
    },
    "88965f2de820415d889ce53b63187d49": {
     "model_module": "@jupyter-widgets/controls",
     "model_module_version": "1.5.0",
     "model_name": "ProgressStyleModel",
     "state": {
      "_model_module": "@jupyter-widgets/controls",
      "_model_module_version": "1.5.0",
      "_model_name": "ProgressStyleModel",
      "_view_count": null,
      "_view_module": "@jupyter-widgets/base",
      "_view_module_version": "1.2.0",
      "_view_name": "StyleView",
      "bar_color": null,
      "description_width": ""
     }
    },
    "88a0f51048fd4e3fbf12f4a2d84e0724": {
     "model_module": "@jupyter-widgets/controls",
     "model_module_version": "1.5.0",
     "model_name": "ProgressStyleModel",
     "state": {
      "_model_module": "@jupyter-widgets/controls",
      "_model_module_version": "1.5.0",
      "_model_name": "ProgressStyleModel",
      "_view_count": null,
      "_view_module": "@jupyter-widgets/base",
      "_view_module_version": "1.2.0",
      "_view_name": "StyleView",
      "bar_color": null,
      "description_width": ""
     }
    },
    "8b41660f5b764115891b0ca1343285d8": {
     "model_module": "@jupyter-widgets/controls",
     "model_module_version": "1.5.0",
     "model_name": "DescriptionStyleModel",
     "state": {
      "_model_module": "@jupyter-widgets/controls",
      "_model_module_version": "1.5.0",
      "_model_name": "DescriptionStyleModel",
      "_view_count": null,
      "_view_module": "@jupyter-widgets/base",
      "_view_module_version": "1.2.0",
      "_view_name": "StyleView",
      "description_width": ""
     }
    },
    "8f17ae7bf99c4b318e8877f8b05be35b": {
     "model_module": "@jupyter-widgets/controls",
     "model_module_version": "1.5.0",
     "model_name": "HBoxModel",
     "state": {
      "_dom_classes": [],
      "_model_module": "@jupyter-widgets/controls",
      "_model_module_version": "1.5.0",
      "_model_name": "HBoxModel",
      "_view_count": null,
      "_view_module": "@jupyter-widgets/controls",
      "_view_module_version": "1.5.0",
      "_view_name": "HBoxView",
      "box_style": "",
      "children": [
       "IPY_MODEL_179e11a7e2214d8daeb76c26c868f701",
       "IPY_MODEL_61f2497306b84bfc92a1ad91cf3afff6",
       "IPY_MODEL_adf24338c14e4e62ba4d3e9e7e3eb407"
      ],
      "layout": "IPY_MODEL_55f04219c8f4441e93c82f1612370fd9"
     }
    },
    "920c14079f644c80bee0fec7980f8bc8": {
     "model_module": "@jupyter-widgets/controls",
     "model_module_version": "1.5.0",
     "model_name": "FloatProgressModel",
     "state": {
      "_dom_classes": [],
      "_model_module": "@jupyter-widgets/controls",
      "_model_module_version": "1.5.0",
      "_model_name": "FloatProgressModel",
      "_view_count": null,
      "_view_module": "@jupyter-widgets/controls",
      "_view_module_version": "1.5.0",
      "_view_name": "ProgressView",
      "bar_style": "success",
      "description": "",
      "description_tooltip": null,
      "layout": "IPY_MODEL_c1bb9aa26f8640efa2ebff78232d26b5",
      "max": 20,
      "min": 0,
      "orientation": "horizontal",
      "style": "IPY_MODEL_b7370a9a52624f5bae717d1d9751f82e",
      "value": 20
     }
    },
    "9443737e834e408e8d34ae5ef22d3bcc": {
     "model_module": "@jupyter-widgets/base",
     "model_module_version": "1.2.0",
     "model_name": "LayoutModel",
     "state": {
      "_model_module": "@jupyter-widgets/base",
      "_model_module_version": "1.2.0",
      "_model_name": "LayoutModel",
      "_view_count": null,
      "_view_module": "@jupyter-widgets/base",
      "_view_module_version": "1.2.0",
      "_view_name": "LayoutView",
      "align_content": null,
      "align_items": null,
      "align_self": null,
      "border": null,
      "bottom": null,
      "display": null,
      "flex": null,
      "flex_flow": null,
      "grid_area": null,
      "grid_auto_columns": null,
      "grid_auto_flow": null,
      "grid_auto_rows": null,
      "grid_column": null,
      "grid_gap": null,
      "grid_row": null,
      "grid_template_areas": null,
      "grid_template_columns": null,
      "grid_template_rows": null,
      "height": null,
      "justify_content": null,
      "justify_items": null,
      "left": null,
      "margin": null,
      "max_height": null,
      "max_width": null,
      "min_height": null,
      "min_width": null,
      "object_fit": null,
      "object_position": null,
      "order": null,
      "overflow": null,
      "overflow_x": null,
      "overflow_y": null,
      "padding": null,
      "right": null,
      "top": null,
      "visibility": null,
      "width": null
     }
    },
    "955507a9eb864b16bb55c9e709bc191d": {
     "model_module": "@jupyter-widgets/controls",
     "model_module_version": "1.5.0",
     "model_name": "ProgressStyleModel",
     "state": {
      "_model_module": "@jupyter-widgets/controls",
      "_model_module_version": "1.5.0",
      "_model_name": "ProgressStyleModel",
      "_view_count": null,
      "_view_module": "@jupyter-widgets/base",
      "_view_module_version": "1.2.0",
      "_view_name": "StyleView",
      "bar_color": null,
      "description_width": ""
     }
    },
    "965079178be6467cb88e815025d66ca0": {
     "model_module": "@jupyter-widgets/base",
     "model_module_version": "1.2.0",
     "model_name": "LayoutModel",
     "state": {
      "_model_module": "@jupyter-widgets/base",
      "_model_module_version": "1.2.0",
      "_model_name": "LayoutModel",
      "_view_count": null,
      "_view_module": "@jupyter-widgets/base",
      "_view_module_version": "1.2.0",
      "_view_name": "LayoutView",
      "align_content": null,
      "align_items": null,
      "align_self": null,
      "border": null,
      "bottom": null,
      "display": null,
      "flex": null,
      "flex_flow": null,
      "grid_area": null,
      "grid_auto_columns": null,
      "grid_auto_flow": null,
      "grid_auto_rows": null,
      "grid_column": null,
      "grid_gap": null,
      "grid_row": null,
      "grid_template_areas": null,
      "grid_template_columns": null,
      "grid_template_rows": null,
      "height": null,
      "justify_content": null,
      "justify_items": null,
      "left": null,
      "margin": null,
      "max_height": null,
      "max_width": null,
      "min_height": null,
      "min_width": null,
      "object_fit": null,
      "object_position": null,
      "order": null,
      "overflow": null,
      "overflow_x": null,
      "overflow_y": null,
      "padding": null,
      "right": null,
      "top": null,
      "visibility": null,
      "width": null
     }
    },
    "99609edff700405c9d31fee7f497366b": {
     "model_module": "@jupyter-widgets/base",
     "model_module_version": "1.2.0",
     "model_name": "LayoutModel",
     "state": {
      "_model_module": "@jupyter-widgets/base",
      "_model_module_version": "1.2.0",
      "_model_name": "LayoutModel",
      "_view_count": null,
      "_view_module": "@jupyter-widgets/base",
      "_view_module_version": "1.2.0",
      "_view_name": "LayoutView",
      "align_content": null,
      "align_items": null,
      "align_self": null,
      "border": null,
      "bottom": null,
      "display": null,
      "flex": null,
      "flex_flow": null,
      "grid_area": null,
      "grid_auto_columns": null,
      "grid_auto_flow": null,
      "grid_auto_rows": null,
      "grid_column": null,
      "grid_gap": null,
      "grid_row": null,
      "grid_template_areas": null,
      "grid_template_columns": null,
      "grid_template_rows": null,
      "height": null,
      "justify_content": null,
      "justify_items": null,
      "left": null,
      "margin": null,
      "max_height": null,
      "max_width": null,
      "min_height": null,
      "min_width": null,
      "object_fit": null,
      "object_position": null,
      "order": null,
      "overflow": null,
      "overflow_x": null,
      "overflow_y": null,
      "padding": null,
      "right": null,
      "top": null,
      "visibility": null,
      "width": null
     }
    },
    "9a7d8cd7e162453abbaf7e0b6f1b2a62": {
     "model_module": "@jupyter-widgets/controls",
     "model_module_version": "1.5.0",
     "model_name": "HTMLModel",
     "state": {
      "_dom_classes": [],
      "_model_module": "@jupyter-widgets/controls",
      "_model_module_version": "1.5.0",
      "_model_name": "HTMLModel",
      "_view_count": null,
      "_view_module": "@jupyter-widgets/controls",
      "_view_module_version": "1.5.0",
      "_view_name": "HTMLView",
      "description": "",
      "description_tooltip": null,
      "layout": "IPY_MODEL_353067680fca4f8f87832e12dbb5f10b",
      "placeholder": "​",
      "style": "IPY_MODEL_c8148be356674d7dbdf3ffb0dc8fcd7c",
      "value": "100%"
     }
    },
    "a1192a1447a9414b9626d61bf2d83e38": {
     "model_module": "@jupyter-widgets/controls",
     "model_module_version": "1.5.0",
     "model_name": "HBoxModel",
     "state": {
      "_dom_classes": [],
      "_model_module": "@jupyter-widgets/controls",
      "_model_module_version": "1.5.0",
      "_model_name": "HBoxModel",
      "_view_count": null,
      "_view_module": "@jupyter-widgets/controls",
      "_view_module_version": "1.5.0",
      "_view_name": "HBoxView",
      "box_style": "",
      "children": [
       "IPY_MODEL_d760f47244f5492f9d76ff989b809967",
       "IPY_MODEL_daca45a275cf402da8c8eb6d1523d58a",
       "IPY_MODEL_684064b6409349cf8bb6ff8d4205aa29"
      ],
      "layout": "IPY_MODEL_3c4134e155824f91b221aa1bbbb545f3"
     }
    },
    "a1ac9c21784a4e979272855cbc782db0": {
     "model_module": "@jupyter-widgets/controls",
     "model_module_version": "1.5.0",
     "model_name": "HBoxModel",
     "state": {
      "_dom_classes": [],
      "_model_module": "@jupyter-widgets/controls",
      "_model_module_version": "1.5.0",
      "_model_name": "HBoxModel",
      "_view_count": null,
      "_view_module": "@jupyter-widgets/controls",
      "_view_module_version": "1.5.0",
      "_view_name": "HBoxView",
      "box_style": "",
      "children": [
       "IPY_MODEL_7e2b727b430d4536a48c87de1329c572",
       "IPY_MODEL_05f81bcd9a68464eb585a49f4a22a38c",
       "IPY_MODEL_7acd163acefe479a97bbec346f2cac5d"
      ],
      "layout": "IPY_MODEL_b6de7d51702042c58724efe83500d186"
     }
    },
    "a583f87a859b45f39cfe5b7d8e17b275": {
     "model_module": "@jupyter-widgets/controls",
     "model_module_version": "1.5.0",
     "model_name": "FloatProgressModel",
     "state": {
      "_dom_classes": [],
      "_model_module": "@jupyter-widgets/controls",
      "_model_module_version": "1.5.0",
      "_model_name": "FloatProgressModel",
      "_view_count": null,
      "_view_module": "@jupyter-widgets/controls",
      "_view_module_version": "1.5.0",
      "_view_name": "ProgressView",
      "bar_style": "success",
      "description": "",
      "description_tooltip": null,
      "layout": "IPY_MODEL_7d27124bbb8a4c55a5dffff6f4edd9a6",
      "max": 20,
      "min": 0,
      "orientation": "horizontal",
      "style": "IPY_MODEL_5f1ccf1c880448708e78915b36b332ca",
      "value": 20
     }
    },
    "a5e2f57a1508412c9f0bcff48b975ace": {
     "model_module": "@jupyter-widgets/controls",
     "model_module_version": "1.5.0",
     "model_name": "HTMLModel",
     "state": {
      "_dom_classes": [],
      "_model_module": "@jupyter-widgets/controls",
      "_model_module_version": "1.5.0",
      "_model_name": "HTMLModel",
      "_view_count": null,
      "_view_module": "@jupyter-widgets/controls",
      "_view_module_version": "1.5.0",
      "_view_name": "HTMLView",
      "description": "",
      "description_tooltip": null,
      "layout": "IPY_MODEL_1f49bb55d0144f0a8c2935553805143e",
      "placeholder": "​",
      "style": "IPY_MODEL_8b41660f5b764115891b0ca1343285d8",
      "value": " 77/77 [00:12&lt;00:00,  6.31it/s]"
     }
    },
    "a8d024400a614832b18489788235de33": {
     "model_module": "@jupyter-widgets/controls",
     "model_module_version": "1.5.0",
     "model_name": "DescriptionStyleModel",
     "state": {
      "_model_module": "@jupyter-widgets/controls",
      "_model_module_version": "1.5.0",
      "_model_name": "DescriptionStyleModel",
      "_view_count": null,
      "_view_module": "@jupyter-widgets/base",
      "_view_module_version": "1.2.0",
      "_view_name": "StyleView",
      "description_width": ""
     }
    },
    "ac4a3d6ec19d41f7aa841191b6714771": {
     "model_module": "@jupyter-widgets/base",
     "model_module_version": "1.2.0",
     "model_name": "LayoutModel",
     "state": {
      "_model_module": "@jupyter-widgets/base",
      "_model_module_version": "1.2.0",
      "_model_name": "LayoutModel",
      "_view_count": null,
      "_view_module": "@jupyter-widgets/base",
      "_view_module_version": "1.2.0",
      "_view_name": "LayoutView",
      "align_content": null,
      "align_items": null,
      "align_self": null,
      "border": null,
      "bottom": null,
      "display": null,
      "flex": null,
      "flex_flow": null,
      "grid_area": null,
      "grid_auto_columns": null,
      "grid_auto_flow": null,
      "grid_auto_rows": null,
      "grid_column": null,
      "grid_gap": null,
      "grid_row": null,
      "grid_template_areas": null,
      "grid_template_columns": null,
      "grid_template_rows": null,
      "height": null,
      "justify_content": null,
      "justify_items": null,
      "left": null,
      "margin": null,
      "max_height": null,
      "max_width": null,
      "min_height": null,
      "min_width": null,
      "object_fit": null,
      "object_position": null,
      "order": null,
      "overflow": null,
      "overflow_x": null,
      "overflow_y": null,
      "padding": null,
      "right": null,
      "top": null,
      "visibility": null,
      "width": null
     }
    },
    "adf24338c14e4e62ba4d3e9e7e3eb407": {
     "model_module": "@jupyter-widgets/controls",
     "model_module_version": "1.5.0",
     "model_name": "HTMLModel",
     "state": {
      "_dom_classes": [],
      "_model_module": "@jupyter-widgets/controls",
      "_model_module_version": "1.5.0",
      "_model_name": "HTMLModel",
      "_view_count": null,
      "_view_module": "@jupyter-widgets/controls",
      "_view_module_version": "1.5.0",
      "_view_name": "HTMLView",
      "description": "",
      "description_tooltip": null,
      "layout": "IPY_MODEL_2a2fbd81cd7c465b931ad8d1da1e0648",
      "placeholder": "​",
      "style": "IPY_MODEL_f172ab201474447ba2f243fe04e5413e",
      "value": " 77/77 [00:12&lt;00:00,  6.04it/s]"
     }
    },
    "b0173c317c2a4bb9939aa4d7905a316c": {
     "model_module": "@jupyter-widgets/controls",
     "model_module_version": "1.5.0",
     "model_name": "DescriptionStyleModel",
     "state": {
      "_model_module": "@jupyter-widgets/controls",
      "_model_module_version": "1.5.0",
      "_model_name": "DescriptionStyleModel",
      "_view_count": null,
      "_view_module": "@jupyter-widgets/base",
      "_view_module_version": "1.2.0",
      "_view_name": "StyleView",
      "description_width": ""
     }
    },
    "b04ad05b1ed1429ba2f5991336d6cd09": {
     "model_module": "@jupyter-widgets/controls",
     "model_module_version": "1.5.0",
     "model_name": "HTMLModel",
     "state": {
      "_dom_classes": [],
      "_model_module": "@jupyter-widgets/controls",
      "_model_module_version": "1.5.0",
      "_model_name": "HTMLModel",
      "_view_count": null,
      "_view_module": "@jupyter-widgets/controls",
      "_view_module_version": "1.5.0",
      "_view_name": "HTMLView",
      "description": "",
      "description_tooltip": null,
      "layout": "IPY_MODEL_9443737e834e408e8d34ae5ef22d3bcc",
      "placeholder": "​",
      "style": "IPY_MODEL_6232c80e03fa4d0280bec00361d8bb09",
      "value": "100%"
     }
    },
    "b228572fb3854e4faaf3f021f2eba265": {
     "model_module": "@jupyter-widgets/base",
     "model_module_version": "1.2.0",
     "model_name": "LayoutModel",
     "state": {
      "_model_module": "@jupyter-widgets/base",
      "_model_module_version": "1.2.0",
      "_model_name": "LayoutModel",
      "_view_count": null,
      "_view_module": "@jupyter-widgets/base",
      "_view_module_version": "1.2.0",
      "_view_name": "LayoutView",
      "align_content": null,
      "align_items": null,
      "align_self": null,
      "border": null,
      "bottom": null,
      "display": null,
      "flex": null,
      "flex_flow": null,
      "grid_area": null,
      "grid_auto_columns": null,
      "grid_auto_flow": null,
      "grid_auto_rows": null,
      "grid_column": null,
      "grid_gap": null,
      "grid_row": null,
      "grid_template_areas": null,
      "grid_template_columns": null,
      "grid_template_rows": null,
      "height": null,
      "justify_content": null,
      "justify_items": null,
      "left": null,
      "margin": null,
      "max_height": null,
      "max_width": null,
      "min_height": null,
      "min_width": null,
      "object_fit": null,
      "object_position": null,
      "order": null,
      "overflow": null,
      "overflow_x": null,
      "overflow_y": null,
      "padding": null,
      "right": null,
      "top": null,
      "visibility": null,
      "width": null
     }
    },
    "b37eb483c46d4aeb8c24582408e8c40a": {
     "model_module": "@jupyter-widgets/controls",
     "model_module_version": "1.5.0",
     "model_name": "HBoxModel",
     "state": {
      "_dom_classes": [],
      "_model_module": "@jupyter-widgets/controls",
      "_model_module_version": "1.5.0",
      "_model_name": "HBoxModel",
      "_view_count": null,
      "_view_module": "@jupyter-widgets/controls",
      "_view_module_version": "1.5.0",
      "_view_name": "HBoxView",
      "box_style": "",
      "children": [
       "IPY_MODEL_339cb373c20e449aa677defbbbf7a124",
       "IPY_MODEL_44497fa642b34a91a148d05c927a6da9",
       "IPY_MODEL_1cc2184ac6e54cfe9bd28eb7c41ce3c5"
      ],
      "layout": "IPY_MODEL_47274a56645c4f3cb6a3e1c39446dff5"
     }
    },
    "b4636abe91414841a1eb84182aab6d79": {
     "model_module": "@jupyter-widgets/controls",
     "model_module_version": "1.5.0",
     "model_name": "DescriptionStyleModel",
     "state": {
      "_model_module": "@jupyter-widgets/controls",
      "_model_module_version": "1.5.0",
      "_model_name": "DescriptionStyleModel",
      "_view_count": null,
      "_view_module": "@jupyter-widgets/base",
      "_view_module_version": "1.2.0",
      "_view_name": "StyleView",
      "description_width": ""
     }
    },
    "b6de7d51702042c58724efe83500d186": {
     "model_module": "@jupyter-widgets/base",
     "model_module_version": "1.2.0",
     "model_name": "LayoutModel",
     "state": {
      "_model_module": "@jupyter-widgets/base",
      "_model_module_version": "1.2.0",
      "_model_name": "LayoutModel",
      "_view_count": null,
      "_view_module": "@jupyter-widgets/base",
      "_view_module_version": "1.2.0",
      "_view_name": "LayoutView",
      "align_content": null,
      "align_items": null,
      "align_self": null,
      "border": null,
      "bottom": null,
      "display": null,
      "flex": null,
      "flex_flow": null,
      "grid_area": null,
      "grid_auto_columns": null,
      "grid_auto_flow": null,
      "grid_auto_rows": null,
      "grid_column": null,
      "grid_gap": null,
      "grid_row": null,
      "grid_template_areas": null,
      "grid_template_columns": null,
      "grid_template_rows": null,
      "height": null,
      "justify_content": null,
      "justify_items": null,
      "left": null,
      "margin": null,
      "max_height": null,
      "max_width": null,
      "min_height": null,
      "min_width": null,
      "object_fit": null,
      "object_position": null,
      "order": null,
      "overflow": null,
      "overflow_x": null,
      "overflow_y": null,
      "padding": null,
      "right": null,
      "top": null,
      "visibility": null,
      "width": null
     }
    },
    "b7370a9a52624f5bae717d1d9751f82e": {
     "model_module": "@jupyter-widgets/controls",
     "model_module_version": "1.5.0",
     "model_name": "ProgressStyleModel",
     "state": {
      "_model_module": "@jupyter-widgets/controls",
      "_model_module_version": "1.5.0",
      "_model_name": "ProgressStyleModel",
      "_view_count": null,
      "_view_module": "@jupyter-widgets/base",
      "_view_module_version": "1.2.0",
      "_view_name": "StyleView",
      "bar_color": null,
      "description_width": ""
     }
    },
    "b86382b3b7a94c32869fa040b62e5f71": {
     "model_module": "@jupyter-widgets/controls",
     "model_module_version": "1.5.0",
     "model_name": "DescriptionStyleModel",
     "state": {
      "_model_module": "@jupyter-widgets/controls",
      "_model_module_version": "1.5.0",
      "_model_name": "DescriptionStyleModel",
      "_view_count": null,
      "_view_module": "@jupyter-widgets/base",
      "_view_module_version": "1.2.0",
      "_view_name": "StyleView",
      "description_width": ""
     }
    },
    "ba3aa12be38042b2875ad08f96e8d5bb": {
     "model_module": "@jupyter-widgets/controls",
     "model_module_version": "1.5.0",
     "model_name": "DescriptionStyleModel",
     "state": {
      "_model_module": "@jupyter-widgets/controls",
      "_model_module_version": "1.5.0",
      "_model_name": "DescriptionStyleModel",
      "_view_count": null,
      "_view_module": "@jupyter-widgets/base",
      "_view_module_version": "1.2.0",
      "_view_name": "StyleView",
      "description_width": ""
     }
    },
    "bbab583d0e6e40b3bb9bb9c072ff5538": {
     "model_module": "@jupyter-widgets/controls",
     "model_module_version": "1.5.0",
     "model_name": "DescriptionStyleModel",
     "state": {
      "_model_module": "@jupyter-widgets/controls",
      "_model_module_version": "1.5.0",
      "_model_name": "DescriptionStyleModel",
      "_view_count": null,
      "_view_module": "@jupyter-widgets/base",
      "_view_module_version": "1.2.0",
      "_view_name": "StyleView",
      "description_width": ""
     }
    },
    "bc06782c016e41c59cda6a83aafc37cf": {
     "model_module": "@jupyter-widgets/controls",
     "model_module_version": "1.5.0",
     "model_name": "ProgressStyleModel",
     "state": {
      "_model_module": "@jupyter-widgets/controls",
      "_model_module_version": "1.5.0",
      "_model_name": "ProgressStyleModel",
      "_view_count": null,
      "_view_module": "@jupyter-widgets/base",
      "_view_module_version": "1.2.0",
      "_view_name": "StyleView",
      "bar_color": null,
      "description_width": ""
     }
    },
    "bc1696ed525844348d31f3d2d8367a7a": {
     "model_module": "@jupyter-widgets/controls",
     "model_module_version": "1.5.0",
     "model_name": "HTMLModel",
     "state": {
      "_dom_classes": [],
      "_model_module": "@jupyter-widgets/controls",
      "_model_module_version": "1.5.0",
      "_model_name": "HTMLModel",
      "_view_count": null,
      "_view_module": "@jupyter-widgets/controls",
      "_view_module_version": "1.5.0",
      "_view_name": "HTMLView",
      "description": "",
      "description_tooltip": null,
      "layout": "IPY_MODEL_d79ccdd323f94590a9f59ec8b2560bf8",
      "placeholder": "​",
      "style": "IPY_MODEL_a8d024400a614832b18489788235de33",
      "value": " 77/77 [00:12&lt;00:00,  6.48it/s]"
     }
    },
    "bc46835bc5d84aff98265c32c5f9a86a": {
     "model_module": "@jupyter-widgets/base",
     "model_module_version": "1.2.0",
     "model_name": "LayoutModel",
     "state": {
      "_model_module": "@jupyter-widgets/base",
      "_model_module_version": "1.2.0",
      "_model_name": "LayoutModel",
      "_view_count": null,
      "_view_module": "@jupyter-widgets/base",
      "_view_module_version": "1.2.0",
      "_view_name": "LayoutView",
      "align_content": null,
      "align_items": null,
      "align_self": null,
      "border": null,
      "bottom": null,
      "display": null,
      "flex": null,
      "flex_flow": null,
      "grid_area": null,
      "grid_auto_columns": null,
      "grid_auto_flow": null,
      "grid_auto_rows": null,
      "grid_column": null,
      "grid_gap": null,
      "grid_row": null,
      "grid_template_areas": null,
      "grid_template_columns": null,
      "grid_template_rows": null,
      "height": null,
      "justify_content": null,
      "justify_items": null,
      "left": null,
      "margin": null,
      "max_height": null,
      "max_width": null,
      "min_height": null,
      "min_width": null,
      "object_fit": null,
      "object_position": null,
      "order": null,
      "overflow": null,
      "overflow_x": null,
      "overflow_y": null,
      "padding": null,
      "right": null,
      "top": null,
      "visibility": null,
      "width": null
     }
    },
    "be0d1bb40a9940e496eccb307e93eccf": {
     "model_module": "@jupyter-widgets/controls",
     "model_module_version": "1.5.0",
     "model_name": "ProgressStyleModel",
     "state": {
      "_model_module": "@jupyter-widgets/controls",
      "_model_module_version": "1.5.0",
      "_model_name": "ProgressStyleModel",
      "_view_count": null,
      "_view_module": "@jupyter-widgets/base",
      "_view_module_version": "1.2.0",
      "_view_name": "StyleView",
      "bar_color": null,
      "description_width": ""
     }
    },
    "c126f6939f364c0c88d1fbe62c427cdd": {
     "model_module": "@jupyter-widgets/controls",
     "model_module_version": "1.5.0",
     "model_name": "DescriptionStyleModel",
     "state": {
      "_model_module": "@jupyter-widgets/controls",
      "_model_module_version": "1.5.0",
      "_model_name": "DescriptionStyleModel",
      "_view_count": null,
      "_view_module": "@jupyter-widgets/base",
      "_view_module_version": "1.2.0",
      "_view_name": "StyleView",
      "description_width": ""
     }
    },
    "c1bb9aa26f8640efa2ebff78232d26b5": {
     "model_module": "@jupyter-widgets/base",
     "model_module_version": "1.2.0",
     "model_name": "LayoutModel",
     "state": {
      "_model_module": "@jupyter-widgets/base",
      "_model_module_version": "1.2.0",
      "_model_name": "LayoutModel",
      "_view_count": null,
      "_view_module": "@jupyter-widgets/base",
      "_view_module_version": "1.2.0",
      "_view_name": "LayoutView",
      "align_content": null,
      "align_items": null,
      "align_self": null,
      "border": null,
      "bottom": null,
      "display": null,
      "flex": null,
      "flex_flow": null,
      "grid_area": null,
      "grid_auto_columns": null,
      "grid_auto_flow": null,
      "grid_auto_rows": null,
      "grid_column": null,
      "grid_gap": null,
      "grid_row": null,
      "grid_template_areas": null,
      "grid_template_columns": null,
      "grid_template_rows": null,
      "height": null,
      "justify_content": null,
      "justify_items": null,
      "left": null,
      "margin": null,
      "max_height": null,
      "max_width": null,
      "min_height": null,
      "min_width": null,
      "object_fit": null,
      "object_position": null,
      "order": null,
      "overflow": null,
      "overflow_x": null,
      "overflow_y": null,
      "padding": null,
      "right": null,
      "top": null,
      "visibility": null,
      "width": null
     }
    },
    "c8148be356674d7dbdf3ffb0dc8fcd7c": {
     "model_module": "@jupyter-widgets/controls",
     "model_module_version": "1.5.0",
     "model_name": "DescriptionStyleModel",
     "state": {
      "_model_module": "@jupyter-widgets/controls",
      "_model_module_version": "1.5.0",
      "_model_name": "DescriptionStyleModel",
      "_view_count": null,
      "_view_module": "@jupyter-widgets/base",
      "_view_module_version": "1.2.0",
      "_view_name": "StyleView",
      "description_width": ""
     }
    },
    "c9cde073190e4ff5bab95fdf252dc316": {
     "model_module": "@jupyter-widgets/controls",
     "model_module_version": "1.5.0",
     "model_name": "HTMLModel",
     "state": {
      "_dom_classes": [],
      "_model_module": "@jupyter-widgets/controls",
      "_model_module_version": "1.5.0",
      "_model_name": "HTMLModel",
      "_view_count": null,
      "_view_module": "@jupyter-widgets/controls",
      "_view_module_version": "1.5.0",
      "_view_name": "HTMLView",
      "description": "",
      "description_tooltip": null,
      "layout": "IPY_MODEL_65c1a827bc89480e8059e3c4520403cf",
      "placeholder": "​",
      "style": "IPY_MODEL_7fd445ca4f1247ed9c3babd10a607018",
      "value": " 20/20 [00:57&lt;00:00,  2.92s/it]"
     }
    },
    "cdede5256cd549e1bce2e7cff680c3de": {
     "model_module": "@jupyter-widgets/controls",
     "model_module_version": "1.5.0",
     "model_name": "DescriptionStyleModel",
     "state": {
      "_model_module": "@jupyter-widgets/controls",
      "_model_module_version": "1.5.0",
      "_model_name": "DescriptionStyleModel",
      "_view_count": null,
      "_view_module": "@jupyter-widgets/base",
      "_view_module_version": "1.2.0",
      "_view_name": "StyleView",
      "description_width": ""
     }
    },
    "cefd9dc415b741ce957ad9aa1fa254f3": {
     "model_module": "@jupyter-widgets/controls",
     "model_module_version": "1.5.0",
     "model_name": "DescriptionStyleModel",
     "state": {
      "_model_module": "@jupyter-widgets/controls",
      "_model_module_version": "1.5.0",
      "_model_name": "DescriptionStyleModel",
      "_view_count": null,
      "_view_module": "@jupyter-widgets/base",
      "_view_module_version": "1.2.0",
      "_view_name": "StyleView",
      "description_width": ""
     }
    },
    "d4ca7740b6924e458a5a19148dc635e7": {
     "model_module": "@jupyter-widgets/base",
     "model_module_version": "1.2.0",
     "model_name": "LayoutModel",
     "state": {
      "_model_module": "@jupyter-widgets/base",
      "_model_module_version": "1.2.0",
      "_model_name": "LayoutModel",
      "_view_count": null,
      "_view_module": "@jupyter-widgets/base",
      "_view_module_version": "1.2.0",
      "_view_name": "LayoutView",
      "align_content": null,
      "align_items": null,
      "align_self": null,
      "border": null,
      "bottom": null,
      "display": null,
      "flex": null,
      "flex_flow": null,
      "grid_area": null,
      "grid_auto_columns": null,
      "grid_auto_flow": null,
      "grid_auto_rows": null,
      "grid_column": null,
      "grid_gap": null,
      "grid_row": null,
      "grid_template_areas": null,
      "grid_template_columns": null,
      "grid_template_rows": null,
      "height": null,
      "justify_content": null,
      "justify_items": null,
      "left": null,
      "margin": null,
      "max_height": null,
      "max_width": null,
      "min_height": null,
      "min_width": null,
      "object_fit": null,
      "object_position": null,
      "order": null,
      "overflow": null,
      "overflow_x": null,
      "overflow_y": null,
      "padding": null,
      "right": null,
      "top": null,
      "visibility": null,
      "width": null
     }
    },
    "d58272e8bc7046079b353b535955766a": {
     "model_module": "@jupyter-widgets/controls",
     "model_module_version": "1.5.0",
     "model_name": "DescriptionStyleModel",
     "state": {
      "_model_module": "@jupyter-widgets/controls",
      "_model_module_version": "1.5.0",
      "_model_name": "DescriptionStyleModel",
      "_view_count": null,
      "_view_module": "@jupyter-widgets/base",
      "_view_module_version": "1.2.0",
      "_view_name": "StyleView",
      "description_width": ""
     }
    },
    "d634e6d077374ddda684c55893353a2e": {
     "model_module": "@jupyter-widgets/controls",
     "model_module_version": "1.5.0",
     "model_name": "ProgressStyleModel",
     "state": {
      "_model_module": "@jupyter-widgets/controls",
      "_model_module_version": "1.5.0",
      "_model_name": "ProgressStyleModel",
      "_view_count": null,
      "_view_module": "@jupyter-widgets/base",
      "_view_module_version": "1.2.0",
      "_view_name": "StyleView",
      "bar_color": null,
      "description_width": ""
     }
    },
    "d760f47244f5492f9d76ff989b809967": {
     "model_module": "@jupyter-widgets/controls",
     "model_module_version": "1.5.0",
     "model_name": "HTMLModel",
     "state": {
      "_dom_classes": [],
      "_model_module": "@jupyter-widgets/controls",
      "_model_module_version": "1.5.0",
      "_model_name": "HTMLModel",
      "_view_count": null,
      "_view_module": "@jupyter-widgets/controls",
      "_view_module_version": "1.5.0",
      "_view_name": "HTMLView",
      "description": "",
      "description_tooltip": null,
      "layout": "IPY_MODEL_57acf53e52b7449fb0e3c95a3d313b15",
      "placeholder": "​",
      "style": "IPY_MODEL_864e98272db44bf4a4bf819664d72984",
      "value": "100%"
     }
    },
    "d79ccdd323f94590a9f59ec8b2560bf8": {
     "model_module": "@jupyter-widgets/base",
     "model_module_version": "1.2.0",
     "model_name": "LayoutModel",
     "state": {
      "_model_module": "@jupyter-widgets/base",
      "_model_module_version": "1.2.0",
      "_model_name": "LayoutModel",
      "_view_count": null,
      "_view_module": "@jupyter-widgets/base",
      "_view_module_version": "1.2.0",
      "_view_name": "LayoutView",
      "align_content": null,
      "align_items": null,
      "align_self": null,
      "border": null,
      "bottom": null,
      "display": null,
      "flex": null,
      "flex_flow": null,
      "grid_area": null,
      "grid_auto_columns": null,
      "grid_auto_flow": null,
      "grid_auto_rows": null,
      "grid_column": null,
      "grid_gap": null,
      "grid_row": null,
      "grid_template_areas": null,
      "grid_template_columns": null,
      "grid_template_rows": null,
      "height": null,
      "justify_content": null,
      "justify_items": null,
      "left": null,
      "margin": null,
      "max_height": null,
      "max_width": null,
      "min_height": null,
      "min_width": null,
      "object_fit": null,
      "object_position": null,
      "order": null,
      "overflow": null,
      "overflow_x": null,
      "overflow_y": null,
      "padding": null,
      "right": null,
      "top": null,
      "visibility": null,
      "width": null
     }
    },
    "daca45a275cf402da8c8eb6d1523d58a": {
     "model_module": "@jupyter-widgets/controls",
     "model_module_version": "1.5.0",
     "model_name": "FloatProgressModel",
     "state": {
      "_dom_classes": [],
      "_model_module": "@jupyter-widgets/controls",
      "_model_module_version": "1.5.0",
      "_model_name": "FloatProgressModel",
      "_view_count": null,
      "_view_module": "@jupyter-widgets/controls",
      "_view_module_version": "1.5.0",
      "_view_name": "ProgressView",
      "bar_style": "success",
      "description": "",
      "description_tooltip": null,
      "layout": "IPY_MODEL_36118f14fdc34e08b59bf21c048bd465",
      "max": 20,
      "min": 0,
      "orientation": "horizontal",
      "style": "IPY_MODEL_bc06782c016e41c59cda6a83aafc37cf",
      "value": 20
     }
    },
    "dd46d8739a764954894b1555bda657cd": {
     "model_module": "@jupyter-widgets/base",
     "model_module_version": "1.2.0",
     "model_name": "LayoutModel",
     "state": {
      "_model_module": "@jupyter-widgets/base",
      "_model_module_version": "1.2.0",
      "_model_name": "LayoutModel",
      "_view_count": null,
      "_view_module": "@jupyter-widgets/base",
      "_view_module_version": "1.2.0",
      "_view_name": "LayoutView",
      "align_content": null,
      "align_items": null,
      "align_self": null,
      "border": null,
      "bottom": null,
      "display": null,
      "flex": null,
      "flex_flow": null,
      "grid_area": null,
      "grid_auto_columns": null,
      "grid_auto_flow": null,
      "grid_auto_rows": null,
      "grid_column": null,
      "grid_gap": null,
      "grid_row": null,
      "grid_template_areas": null,
      "grid_template_columns": null,
      "grid_template_rows": null,
      "height": null,
      "justify_content": null,
      "justify_items": null,
      "left": null,
      "margin": null,
      "max_height": null,
      "max_width": null,
      "min_height": null,
      "min_width": null,
      "object_fit": null,
      "object_position": null,
      "order": null,
      "overflow": null,
      "overflow_x": null,
      "overflow_y": null,
      "padding": null,
      "right": null,
      "top": null,
      "visibility": null,
      "width": null
     }
    },
    "ddae854a704b46fdbecf8881bb7f09e9": {
     "model_module": "@jupyter-widgets/controls",
     "model_module_version": "1.5.0",
     "model_name": "DescriptionStyleModel",
     "state": {
      "_model_module": "@jupyter-widgets/controls",
      "_model_module_version": "1.5.0",
      "_model_name": "DescriptionStyleModel",
      "_view_count": null,
      "_view_module": "@jupyter-widgets/base",
      "_view_module_version": "1.2.0",
      "_view_name": "StyleView",
      "description_width": ""
     }
    },
    "e05bc1ad5e894a1cbea897d9ac29dbe1": {
     "model_module": "@jupyter-widgets/base",
     "model_module_version": "1.2.0",
     "model_name": "LayoutModel",
     "state": {
      "_model_module": "@jupyter-widgets/base",
      "_model_module_version": "1.2.0",
      "_model_name": "LayoutModel",
      "_view_count": null,
      "_view_module": "@jupyter-widgets/base",
      "_view_module_version": "1.2.0",
      "_view_name": "LayoutView",
      "align_content": null,
      "align_items": null,
      "align_self": null,
      "border": null,
      "bottom": null,
      "display": null,
      "flex": null,
      "flex_flow": null,
      "grid_area": null,
      "grid_auto_columns": null,
      "grid_auto_flow": null,
      "grid_auto_rows": null,
      "grid_column": null,
      "grid_gap": null,
      "grid_row": null,
      "grid_template_areas": null,
      "grid_template_columns": null,
      "grid_template_rows": null,
      "height": null,
      "justify_content": null,
      "justify_items": null,
      "left": null,
      "margin": null,
      "max_height": null,
      "max_width": null,
      "min_height": null,
      "min_width": null,
      "object_fit": null,
      "object_position": null,
      "order": null,
      "overflow": null,
      "overflow_x": null,
      "overflow_y": null,
      "padding": null,
      "right": null,
      "top": null,
      "visibility": null,
      "width": null
     }
    },
    "e515a49469fd4bf7b7a448ac95e9f16c": {
     "model_module": "@jupyter-widgets/base",
     "model_module_version": "1.2.0",
     "model_name": "LayoutModel",
     "state": {
      "_model_module": "@jupyter-widgets/base",
      "_model_module_version": "1.2.0",
      "_model_name": "LayoutModel",
      "_view_count": null,
      "_view_module": "@jupyter-widgets/base",
      "_view_module_version": "1.2.0",
      "_view_name": "LayoutView",
      "align_content": null,
      "align_items": null,
      "align_self": null,
      "border": null,
      "bottom": null,
      "display": null,
      "flex": null,
      "flex_flow": null,
      "grid_area": null,
      "grid_auto_columns": null,
      "grid_auto_flow": null,
      "grid_auto_rows": null,
      "grid_column": null,
      "grid_gap": null,
      "grid_row": null,
      "grid_template_areas": null,
      "grid_template_columns": null,
      "grid_template_rows": null,
      "height": null,
      "justify_content": null,
      "justify_items": null,
      "left": null,
      "margin": null,
      "max_height": null,
      "max_width": null,
      "min_height": null,
      "min_width": null,
      "object_fit": null,
      "object_position": null,
      "order": null,
      "overflow": null,
      "overflow_x": null,
      "overflow_y": null,
      "padding": null,
      "right": null,
      "top": null,
      "visibility": null,
      "width": null
     }
    },
    "e5c5e8df4e704aeba94390ccf3649d66": {
     "model_module": "@jupyter-widgets/controls",
     "model_module_version": "1.5.0",
     "model_name": "FloatProgressModel",
     "state": {
      "_dom_classes": [],
      "_model_module": "@jupyter-widgets/controls",
      "_model_module_version": "1.5.0",
      "_model_name": "FloatProgressModel",
      "_view_count": null,
      "_view_module": "@jupyter-widgets/controls",
      "_view_module_version": "1.5.0",
      "_view_name": "ProgressView",
      "bar_style": "success",
      "description": "",
      "description_tooltip": null,
      "layout": "IPY_MODEL_dd46d8739a764954894b1555bda657cd",
      "max": 20,
      "min": 0,
      "orientation": "horizontal",
      "style": "IPY_MODEL_1b258d15f7fb441ea68e1c3f54869e6f",
      "value": 20
     }
    },
    "e5ed85e91280407480e93703d60193d8": {
     "model_module": "@jupyter-widgets/base",
     "model_module_version": "1.2.0",
     "model_name": "LayoutModel",
     "state": {
      "_model_module": "@jupyter-widgets/base",
      "_model_module_version": "1.2.0",
      "_model_name": "LayoutModel",
      "_view_count": null,
      "_view_module": "@jupyter-widgets/base",
      "_view_module_version": "1.2.0",
      "_view_name": "LayoutView",
      "align_content": null,
      "align_items": null,
      "align_self": null,
      "border": null,
      "bottom": null,
      "display": null,
      "flex": null,
      "flex_flow": null,
      "grid_area": null,
      "grid_auto_columns": null,
      "grid_auto_flow": null,
      "grid_auto_rows": null,
      "grid_column": null,
      "grid_gap": null,
      "grid_row": null,
      "grid_template_areas": null,
      "grid_template_columns": null,
      "grid_template_rows": null,
      "height": null,
      "justify_content": null,
      "justify_items": null,
      "left": null,
      "margin": null,
      "max_height": null,
      "max_width": null,
      "min_height": null,
      "min_width": null,
      "object_fit": null,
      "object_position": null,
      "order": null,
      "overflow": null,
      "overflow_x": null,
      "overflow_y": null,
      "padding": null,
      "right": null,
      "top": null,
      "visibility": null,
      "width": null
     }
    },
    "e63a0bbc33dc4789aefb64abc59df5ac": {
     "model_module": "@jupyter-widgets/controls",
     "model_module_version": "1.5.0",
     "model_name": "HTMLModel",
     "state": {
      "_dom_classes": [],
      "_model_module": "@jupyter-widgets/controls",
      "_model_module_version": "1.5.0",
      "_model_name": "HTMLModel",
      "_view_count": null,
      "_view_module": "@jupyter-widgets/controls",
      "_view_module_version": "1.5.0",
      "_view_name": "HTMLView",
      "description": "",
      "description_tooltip": null,
      "layout": "IPY_MODEL_f50fe61ec4c34131a1f68d9aaeb930d5",
      "placeholder": "​",
      "style": "IPY_MODEL_876972be869f4dafb7a0de4bf36920e8",
      "value": " 77/77 [00:12&lt;00:00,  5.97it/s]"
     }
    },
    "e7f88cc00b6547319226bb90d3e276cb": {
     "model_module": "@jupyter-widgets/controls",
     "model_module_version": "1.5.0",
     "model_name": "ProgressStyleModel",
     "state": {
      "_model_module": "@jupyter-widgets/controls",
      "_model_module_version": "1.5.0",
      "_model_name": "ProgressStyleModel",
      "_view_count": null,
      "_view_module": "@jupyter-widgets/base",
      "_view_module_version": "1.2.0",
      "_view_name": "StyleView",
      "bar_color": null,
      "description_width": ""
     }
    },
    "eafe4152ff8248939921ce9dd3005564": {
     "model_module": "@jupyter-widgets/controls",
     "model_module_version": "1.5.0",
     "model_name": "FloatProgressModel",
     "state": {
      "_dom_classes": [],
      "_model_module": "@jupyter-widgets/controls",
      "_model_module_version": "1.5.0",
      "_model_name": "FloatProgressModel",
      "_view_count": null,
      "_view_module": "@jupyter-widgets/controls",
      "_view_module_version": "1.5.0",
      "_view_name": "ProgressView",
      "bar_style": "success",
      "description": "",
      "description_tooltip": null,
      "layout": "IPY_MODEL_0d65030c84ec4dfd870563b4623eac45",
      "max": 39,
      "min": 0,
      "orientation": "horizontal",
      "style": "IPY_MODEL_07b5066f4f9447dc989a8dc77f525319",
      "value": 39
     }
    },
    "eb8cebda3441486ebab567b20e52d82a": {
     "model_module": "@jupyter-widgets/base",
     "model_module_version": "1.2.0",
     "model_name": "LayoutModel",
     "state": {
      "_model_module": "@jupyter-widgets/base",
      "_model_module_version": "1.2.0",
      "_model_name": "LayoutModel",
      "_view_count": null,
      "_view_module": "@jupyter-widgets/base",
      "_view_module_version": "1.2.0",
      "_view_name": "LayoutView",
      "align_content": null,
      "align_items": null,
      "align_self": null,
      "border": null,
      "bottom": null,
      "display": null,
      "flex": null,
      "flex_flow": null,
      "grid_area": null,
      "grid_auto_columns": null,
      "grid_auto_flow": null,
      "grid_auto_rows": null,
      "grid_column": null,
      "grid_gap": null,
      "grid_row": null,
      "grid_template_areas": null,
      "grid_template_columns": null,
      "grid_template_rows": null,
      "height": null,
      "justify_content": null,
      "justify_items": null,
      "left": null,
      "margin": null,
      "max_height": null,
      "max_width": null,
      "min_height": null,
      "min_width": null,
      "object_fit": null,
      "object_position": null,
      "order": null,
      "overflow": null,
      "overflow_x": null,
      "overflow_y": null,
      "padding": null,
      "right": null,
      "top": null,
      "visibility": null,
      "width": null
     }
    },
    "ebdb700f2a9546f8869cb0c9be9b63c8": {
     "model_module": "@jupyter-widgets/controls",
     "model_module_version": "1.5.0",
     "model_name": "HTMLModel",
     "state": {
      "_dom_classes": [],
      "_model_module": "@jupyter-widgets/controls",
      "_model_module_version": "1.5.0",
      "_model_name": "HTMLModel",
      "_view_count": null,
      "_view_module": "@jupyter-widgets/controls",
      "_view_module_version": "1.5.0",
      "_view_name": "HTMLView",
      "description": "",
      "description_tooltip": null,
      "layout": "IPY_MODEL_448f4ef25e2f4895a3c972c829fe29e1",
      "placeholder": "​",
      "style": "IPY_MODEL_fab4351758a84b62b0328acb1001ed10",
      "value": " 20/20 [00:56&lt;00:00,  2.61s/it]"
     }
    },
    "ecce34476421428fa3f5583019ed1d9e": {
     "model_module": "@jupyter-widgets/controls",
     "model_module_version": "1.5.0",
     "model_name": "HBoxModel",
     "state": {
      "_dom_classes": [],
      "_model_module": "@jupyter-widgets/controls",
      "_model_module_version": "1.5.0",
      "_model_name": "HBoxModel",
      "_view_count": null,
      "_view_module": "@jupyter-widgets/controls",
      "_view_module_version": "1.5.0",
      "_view_name": "HBoxView",
      "box_style": "",
      "children": [
       "IPY_MODEL_2eee612c057844e6a9665d35c8eff40d",
       "IPY_MODEL_5c9904feed95415091c369e6ed8cff26",
       "IPY_MODEL_bc1696ed525844348d31f3d2d8367a7a"
      ],
      "layout": "IPY_MODEL_5c32d91f691c44f39c43b57aff56db43"
     }
    },
    "efbe907908cc48909dba469683522b50": {
     "model_module": "@jupyter-widgets/controls",
     "model_module_version": "1.5.0",
     "model_name": "DescriptionStyleModel",
     "state": {
      "_model_module": "@jupyter-widgets/controls",
      "_model_module_version": "1.5.0",
      "_model_name": "DescriptionStyleModel",
      "_view_count": null,
      "_view_module": "@jupyter-widgets/base",
      "_view_module_version": "1.2.0",
      "_view_name": "StyleView",
      "description_width": ""
     }
    },
    "f172ab201474447ba2f243fe04e5413e": {
     "model_module": "@jupyter-widgets/controls",
     "model_module_version": "1.5.0",
     "model_name": "DescriptionStyleModel",
     "state": {
      "_model_module": "@jupyter-widgets/controls",
      "_model_module_version": "1.5.0",
      "_model_name": "DescriptionStyleModel",
      "_view_count": null,
      "_view_module": "@jupyter-widgets/base",
      "_view_module_version": "1.2.0",
      "_view_name": "StyleView",
      "description_width": ""
     }
    },
    "f50fe61ec4c34131a1f68d9aaeb930d5": {
     "model_module": "@jupyter-widgets/base",
     "model_module_version": "1.2.0",
     "model_name": "LayoutModel",
     "state": {
      "_model_module": "@jupyter-widgets/base",
      "_model_module_version": "1.2.0",
      "_model_name": "LayoutModel",
      "_view_count": null,
      "_view_module": "@jupyter-widgets/base",
      "_view_module_version": "1.2.0",
      "_view_name": "LayoutView",
      "align_content": null,
      "align_items": null,
      "align_self": null,
      "border": null,
      "bottom": null,
      "display": null,
      "flex": null,
      "flex_flow": null,
      "grid_area": null,
      "grid_auto_columns": null,
      "grid_auto_flow": null,
      "grid_auto_rows": null,
      "grid_column": null,
      "grid_gap": null,
      "grid_row": null,
      "grid_template_areas": null,
      "grid_template_columns": null,
      "grid_template_rows": null,
      "height": null,
      "justify_content": null,
      "justify_items": null,
      "left": null,
      "margin": null,
      "max_height": null,
      "max_width": null,
      "min_height": null,
      "min_width": null,
      "object_fit": null,
      "object_position": null,
      "order": null,
      "overflow": null,
      "overflow_x": null,
      "overflow_y": null,
      "padding": null,
      "right": null,
      "top": null,
      "visibility": null,
      "width": null
     }
    },
    "f5713c0502074c168b817ab9f0c13aaf": {
     "model_module": "@jupyter-widgets/base",
     "model_module_version": "1.2.0",
     "model_name": "LayoutModel",
     "state": {
      "_model_module": "@jupyter-widgets/base",
      "_model_module_version": "1.2.0",
      "_model_name": "LayoutModel",
      "_view_count": null,
      "_view_module": "@jupyter-widgets/base",
      "_view_module_version": "1.2.0",
      "_view_name": "LayoutView",
      "align_content": null,
      "align_items": null,
      "align_self": null,
      "border": null,
      "bottom": null,
      "display": null,
      "flex": null,
      "flex_flow": null,
      "grid_area": null,
      "grid_auto_columns": null,
      "grid_auto_flow": null,
      "grid_auto_rows": null,
      "grid_column": null,
      "grid_gap": null,
      "grid_row": null,
      "grid_template_areas": null,
      "grid_template_columns": null,
      "grid_template_rows": null,
      "height": null,
      "justify_content": null,
      "justify_items": null,
      "left": null,
      "margin": null,
      "max_height": null,
      "max_width": null,
      "min_height": null,
      "min_width": null,
      "object_fit": null,
      "object_position": null,
      "order": null,
      "overflow": null,
      "overflow_x": null,
      "overflow_y": null,
      "padding": null,
      "right": null,
      "top": null,
      "visibility": null,
      "width": null
     }
    },
    "f58503d29df545a89afc1e28441026df": {
     "model_module": "@jupyter-widgets/controls",
     "model_module_version": "1.5.0",
     "model_name": "HTMLModel",
     "state": {
      "_dom_classes": [],
      "_model_module": "@jupyter-widgets/controls",
      "_model_module_version": "1.5.0",
      "_model_name": "HTMLModel",
      "_view_count": null,
      "_view_module": "@jupyter-widgets/controls",
      "_view_module_version": "1.5.0",
      "_view_name": "HTMLView",
      "description": "",
      "description_tooltip": null,
      "layout": "IPY_MODEL_d4ca7740b6924e458a5a19148dc635e7",
      "placeholder": "​",
      "style": "IPY_MODEL_ba3aa12be38042b2875ad08f96e8d5bb",
      "value": "Map: 100%"
     }
    },
    "f5b312b2c4cb4bb69ccde0bb4fad136a": {
     "model_module": "@jupyter-widgets/controls",
     "model_module_version": "1.5.0",
     "model_name": "HBoxModel",
     "state": {
      "_dom_classes": [],
      "_model_module": "@jupyter-widgets/controls",
      "_model_module_version": "1.5.0",
      "_model_name": "HBoxModel",
      "_view_count": null,
      "_view_module": "@jupyter-widgets/controls",
      "_view_module_version": "1.5.0",
      "_view_name": "HBoxView",
      "box_style": "",
      "children": [
       "IPY_MODEL_1237b9e1a0c147c990ec6d59eb812a04",
       "IPY_MODEL_710bb8e0109e44a8bddef08970804680",
       "IPY_MODEL_a5e2f57a1508412c9f0bcff48b975ace"
      ],
      "layout": "IPY_MODEL_b228572fb3854e4faaf3f021f2eba265"
     }
    },
    "f67c716748b049608ba51764d1cbcb55": {
     "model_module": "@jupyter-widgets/controls",
     "model_module_version": "1.5.0",
     "model_name": "HBoxModel",
     "state": {
      "_dom_classes": [],
      "_model_module": "@jupyter-widgets/controls",
      "_model_module_version": "1.5.0",
      "_model_name": "HBoxModel",
      "_view_count": null,
      "_view_module": "@jupyter-widgets/controls",
      "_view_module_version": "1.5.0",
      "_view_name": "HBoxView",
      "box_style": "",
      "children": [
       "IPY_MODEL_b04ad05b1ed1429ba2f5991336d6cd09",
       "IPY_MODEL_e5c5e8df4e704aeba94390ccf3649d66",
       "IPY_MODEL_c9cde073190e4ff5bab95fdf252dc316"
      ],
      "layout": "IPY_MODEL_42026aca6f204c7da3c4ccd6800ac9f0"
     }
    },
    "fab4351758a84b62b0328acb1001ed10": {
     "model_module": "@jupyter-widgets/controls",
     "model_module_version": "1.5.0",
     "model_name": "DescriptionStyleModel",
     "state": {
      "_model_module": "@jupyter-widgets/controls",
      "_model_module_version": "1.5.0",
      "_model_name": "DescriptionStyleModel",
      "_view_count": null,
      "_view_module": "@jupyter-widgets/base",
      "_view_module_version": "1.2.0",
      "_view_name": "StyleView",
      "description_width": ""
     }
    },
    "fc3305f606a1487a9d4d7020f4ca30ac": {
     "model_module": "@jupyter-widgets/base",
     "model_module_version": "1.2.0",
     "model_name": "LayoutModel",
     "state": {
      "_model_module": "@jupyter-widgets/base",
      "_model_module_version": "1.2.0",
      "_model_name": "LayoutModel",
      "_view_count": null,
      "_view_module": "@jupyter-widgets/base",
      "_view_module_version": "1.2.0",
      "_view_name": "LayoutView",
      "align_content": null,
      "align_items": null,
      "align_self": null,
      "border": null,
      "bottom": null,
      "display": null,
      "flex": null,
      "flex_flow": null,
      "grid_area": null,
      "grid_auto_columns": null,
      "grid_auto_flow": null,
      "grid_auto_rows": null,
      "grid_column": null,
      "grid_gap": null,
      "grid_row": null,
      "grid_template_areas": null,
      "grid_template_columns": null,
      "grid_template_rows": null,
      "height": null,
      "justify_content": null,
      "justify_items": null,
      "left": null,
      "margin": null,
      "max_height": null,
      "max_width": null,
      "min_height": null,
      "min_width": null,
      "object_fit": null,
      "object_position": null,
      "order": null,
      "overflow": null,
      "overflow_x": null,
      "overflow_y": null,
      "padding": null,
      "right": null,
      "top": null,
      "visibility": null,
      "width": null
     }
    },
    "fc550e86486b4fb6aaa5471e59bfd777": {
     "model_module": "@jupyter-widgets/controls",
     "model_module_version": "1.5.0",
     "model_name": "HTMLModel",
     "state": {
      "_dom_classes": [],
      "_model_module": "@jupyter-widgets/controls",
      "_model_module_version": "1.5.0",
      "_model_name": "HTMLModel",
      "_view_count": null,
      "_view_module": "@jupyter-widgets/controls",
      "_view_module_version": "1.5.0",
      "_view_name": "HTMLView",
      "description": "",
      "description_tooltip": null,
      "layout": "IPY_MODEL_e515a49469fd4bf7b7a448ac95e9f16c",
      "placeholder": "​",
      "style": "IPY_MODEL_5516cf8aa5dc4186ad37273ada99b2a8",
      "value": " 20/20 [01:00&lt;00:00,  2.76s/it]"
     }
    },
    "fe8349fd82aa442889c8d121f33719e4": {
     "model_module": "@jupyter-widgets/controls",
     "model_module_version": "1.5.0",
     "model_name": "FloatProgressModel",
     "state": {
      "_dom_classes": [],
      "_model_module": "@jupyter-widgets/controls",
      "_model_module_version": "1.5.0",
      "_model_name": "FloatProgressModel",
      "_view_count": null,
      "_view_module": "@jupyter-widgets/controls",
      "_view_module_version": "1.5.0",
      "_view_name": "ProgressView",
      "bar_style": "success",
      "description": "",
      "description_tooltip": null,
      "layout": "IPY_MODEL_4ff8f4c37e4a4a41994d5ff9d929b520",
      "max": 20,
      "min": 0,
      "orientation": "horizontal",
      "style": "IPY_MODEL_be0d1bb40a9940e496eccb307e93eccf",
      "value": 20
     }
    },
    "ff63b639f1624b179d5833b07ce5cb27": {
     "model_module": "@jupyter-widgets/controls",
     "model_module_version": "1.5.0",
     "model_name": "HBoxModel",
     "state": {
      "_dom_classes": [],
      "_model_module": "@jupyter-widgets/controls",
      "_model_module_version": "1.5.0",
      "_model_name": "HBoxModel",
      "_view_count": null,
      "_view_module": "@jupyter-widgets/controls",
      "_view_module_version": "1.5.0",
      "_view_name": "HBoxView",
      "box_style": "",
      "children": [
       "IPY_MODEL_9a7d8cd7e162453abbaf7e0b6f1b2a62",
       "IPY_MODEL_49334d8a8e65476fb652f9ee3bc1879d",
       "IPY_MODEL_e63a0bbc33dc4789aefb64abc59df5ac"
      ],
      "layout": "IPY_MODEL_1aea80a661bd42748bccdeaffffa2e1c"
     }
    }
   }
  }
 },
 "nbformat": 4,
 "nbformat_minor": 5
}
